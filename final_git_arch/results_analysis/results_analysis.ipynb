{
 "cells": [
  {
   "attachments": {},
   "cell_type": "markdown",
   "metadata": {},
   "source": [
    "# Analyzing predictions"
   ]
  },
  {
   "cell_type": "code",
   "execution_count": 73,
   "metadata": {
    "collapsed": true
   },
   "outputs": [],
   "source": [
    "import pandas as pd\n",
    "import numpy as np\n",
    "import seaborn as sn\n",
    "import matplotlib.pyplot as plt\n",
    "import matplotlib.font_manager as fm"
   ]
  },
  {
   "cell_type": "code",
   "execution_count": 74,
   "metadata": {
    "collapsed": false
   },
   "outputs": [
    {
     "name": "stdout",
     "output_type": "stream",
     "text": [
      "N = 744311\n"
     ]
    },
    {
     "data": {
      "text/html": [
       "<div>\n",
       "<style scoped>\n",
       "    .dataframe tbody tr th:only-of-type {\n",
       "        vertical-align: middle;\n",
       "    }\n",
       "\n",
       "    .dataframe tbody tr th {\n",
       "        vertical-align: top;\n",
       "    }\n",
       "\n",
       "    .dataframe thead th {\n",
       "        text-align: right;\n",
       "    }\n",
       "</style>\n",
       "<table border=\"1\" class=\"dataframe\">\n",
       "  <thead>\n",
       "    <tr style=\"text-align: right;\">\n",
       "      <th></th>\n",
       "      <th>composer</th>\n",
       "    </tr>\n",
       "    <tr>\n",
       "      <th>ID</th>\n",
       "      <th></th>\n",
       "    </tr>\n",
       "  </thead>\n",
       "  <tbody>\n",
       "    <tr>\n",
       "      <th>5925434</th>\n",
       "      <td>K. Totaka</td>\n",
       "    </tr>\n",
       "    <tr>\n",
       "      <th>3587506</th>\n",
       "      <td>Brandon</td>\n",
       "    </tr>\n",
       "    <tr>\n",
       "      <th>5595487</th>\n",
       "      <td>B. Shi</td>\n",
       "    </tr>\n",
       "    <tr>\n",
       "      <th>78586</th>\n",
       "      <td>B. Springsteen</td>\n",
       "    </tr>\n",
       "    <tr>\n",
       "      <th>2279696</th>\n",
       "      <td>G. F. Handel</td>\n",
       "    </tr>\n",
       "    <tr>\n",
       "      <th>5838018</th>\n",
       "      <td>D. Wilson</td>\n",
       "    </tr>\n",
       "    <tr>\n",
       "      <th>274021</th>\n",
       "      <td>E. Iseli</td>\n",
       "    </tr>\n",
       "    <tr>\n",
       "      <th>5960059</th>\n",
       "      <td>R. J. Williams</td>\n",
       "    </tr>\n",
       "    <tr>\n",
       "      <th>5954683</th>\n",
       "      <td>O. Und; J. L. Bell</td>\n",
       "    </tr>\n",
       "    <tr>\n",
       "      <th>5046674</th>\n",
       "      <td>Vivid</td>\n",
       "    </tr>\n",
       "  </tbody>\n",
       "</table>\n",
       "</div>"
      ],
      "text/plain": [
       "                   composer\n",
       "ID                         \n",
       "5925434           K. Totaka\n",
       "3587506             Brandon\n",
       "5595487              B. Shi\n",
       "78586        B. Springsteen\n",
       "2279696        G. F. Handel\n",
       "5838018           D. Wilson\n",
       "274021             E. Iseli\n",
       "5960059      R. J. Williams\n",
       "5954683  O. Und; J. L. Bell\n",
       "5046674               Vivid"
      ]
     },
     "execution_count": 74,
     "metadata": {},
     "output_type": "execute_result"
    }
   ],
   "source": [
    "true_labels = pd.read_csv(\"../label_processing/slim_metadata.csv\",\n",
    "                 sep=\",\",\n",
    "                 index_col=0)\n",
    "N = len(true_labels.index)\n",
    "print(f\"N = {N}\")\n",
    "true_labels.head(10)"
   ]
  },
  {
   "cell_type": "code",
   "execution_count": 75,
   "metadata": {},
   "outputs": [
    {
     "data": {
      "text/plain": [
       "ID\n",
       "5925434         K. Totaka\n",
       "3587506           Brandon\n",
       "5595487            B. Shi\n",
       "78586      B. Springsteen\n",
       "2279696      G. F. Handel\n",
       "5838018         D. Wilson\n",
       "274021           E. Iseli\n",
       "5960059    R. J. Williams\n",
       "5954683            O. Und\n",
       "5046674             Vivid\n",
       "Name: composer, dtype: object"
      ]
     },
     "execution_count": 75,
     "metadata": {},
     "output_type": "execute_result"
    }
   ],
   "source": [
    "trunc_labels=true_labels['composer'].str.split(';').str[0]\n",
    "trunc_labels.head(10)"
   ]
  },
  {
   "cell_type": "code",
   "execution_count": 76,
   "metadata": {},
   "outputs": [],
   "source": [
    "top_composers=true_labels['composer'].value_counts()[:10]\n",
    "trunc_labels=trunc_labels.apply(lambda x: x if x in top_composers else \"other\")"
   ]
  },
  {
   "cell_type": "code",
   "execution_count": 77,
   "metadata": {
    "collapsed": false
   },
   "outputs": [
    {
     "name": "stdout",
     "output_type": "stream",
     "text": [
      "N = 8146\n"
     ]
    },
    {
     "data": {
      "text/html": [
       "<div>\n",
       "<style scoped>\n",
       "    .dataframe tbody tr th:only-of-type {\n",
       "        vertical-align: middle;\n",
       "    }\n",
       "\n",
       "    .dataframe tbody tr th {\n",
       "        vertical-align: top;\n",
       "    }\n",
       "\n",
       "    .dataframe thead th {\n",
       "        text-align: right;\n",
       "    }\n",
       "</style>\n",
       "<table border=\"1\" class=\"dataframe\">\n",
       "  <thead>\n",
       "    <tr style=\"text-align: right;\">\n",
       "      <th></th>\n",
       "      <th>predicted_composer</th>\n",
       "    </tr>\n",
       "    <tr>\n",
       "      <th>ID</th>\n",
       "      <th></th>\n",
       "    </tr>\n",
       "  </thead>\n",
       "  <tbody>\n",
       "    <tr>\n",
       "      <th>362386</th>\n",
       "      <td>J. S. Bach</td>\n",
       "    </tr>\n",
       "    <tr>\n",
       "      <th>6196263</th>\n",
       "      <td>T. Fox</td>\n",
       "    </tr>\n",
       "    <tr>\n",
       "      <th>5026412</th>\n",
       "      <td>L. V. Beethoven</td>\n",
       "    </tr>\n",
       "    <tr>\n",
       "      <th>4887846</th>\n",
       "      <td>Y. Kato  加藤 洋平</td>\n",
       "    </tr>\n",
       "    <tr>\n",
       "      <th>5995484</th>\n",
       "      <td>J. S. Bach</td>\n",
       "    </tr>\n",
       "    <tr>\n",
       "      <th>5050524</th>\n",
       "      <td>J. S. Bach</td>\n",
       "    </tr>\n",
       "    <tr>\n",
       "      <th>946136</th>\n",
       "      <td>Y. Kato  加藤 洋平</td>\n",
       "    </tr>\n",
       "    <tr>\n",
       "      <th>4808777</th>\n",
       "      <td>J. S. Bach</td>\n",
       "    </tr>\n",
       "    <tr>\n",
       "      <th>1358326</th>\n",
       "      <td>Y. Kato  加藤 洋平</td>\n",
       "    </tr>\n",
       "    <tr>\n",
       "      <th>5485333</th>\n",
       "      <td>J. S. Bach</td>\n",
       "    </tr>\n",
       "  </tbody>\n",
       "</table>\n",
       "</div>"
      ],
      "text/plain": [
       "        predicted_composer\n",
       "ID                        \n",
       "362386          J. S. Bach\n",
       "6196263             T. Fox\n",
       "5026412    L. V. Beethoven\n",
       "4887846     Y. Kato  加藤 洋平\n",
       "5995484         J. S. Bach\n",
       "5050524         J. S. Bach\n",
       "946136      Y. Kato  加藤 洋平\n",
       "4808777         J. S. Bach\n",
       "1358326     Y. Kato  加藤 洋平\n",
       "5485333         J. S. Bach"
      ]
     },
     "execution_count": 77,
     "metadata": {},
     "output_type": "execute_result"
    }
   ],
   "source": [
    "predicted_labels = pd.read_csv(\"./predictions.tsv\",\n",
    "                 sep=\"\\t\",\n",
    "                 escapechar='\\\\',\n",
    "                 index_col=0)\n",
    "N = len(predicted_labels.index)\n",
    "print(f\"N = {N}\")\n",
    "predicted_labels.set_index('ID', inplace=True)\n",
    "predicted_labels.head(10)"
   ]
  },
  {
   "cell_type": "code",
   "execution_count": 78,
   "metadata": {},
   "outputs": [
    {
     "data": {
      "text/html": [
       "<div>\n",
       "<style scoped>\n",
       "    .dataframe tbody tr th:only-of-type {\n",
       "        vertical-align: middle;\n",
       "    }\n",
       "\n",
       "    .dataframe tbody tr th {\n",
       "        vertical-align: top;\n",
       "    }\n",
       "\n",
       "    .dataframe thead th {\n",
       "        text-align: right;\n",
       "    }\n",
       "</style>\n",
       "<table border=\"1\" class=\"dataframe\">\n",
       "  <thead>\n",
       "    <tr style=\"text-align: right;\">\n",
       "      <th></th>\n",
       "      <th>composer</th>\n",
       "      <th>predicted_composer</th>\n",
       "    </tr>\n",
       "    <tr>\n",
       "      <th>ID</th>\n",
       "      <th></th>\n",
       "      <th></th>\n",
       "    </tr>\n",
       "  </thead>\n",
       "  <tbody>\n",
       "    <tr>\n",
       "      <th>131072</th>\n",
       "      <td>J. S. Bach</td>\n",
       "      <td>J. S. Bach</td>\n",
       "    </tr>\n",
       "    <tr>\n",
       "      <th>5322976</th>\n",
       "      <td>T. Fox</td>\n",
       "      <td>J. S. Bach</td>\n",
       "    </tr>\n",
       "    <tr>\n",
       "      <th>5073314</th>\n",
       "      <td>J. S. Bach</td>\n",
       "      <td>L. V. Beethoven</td>\n",
       "    </tr>\n",
       "    <tr>\n",
       "      <th>3391526</th>\n",
       "      <td>J. Williams</td>\n",
       "      <td>P. F. Carera</td>\n",
       "    </tr>\n",
       "    <tr>\n",
       "      <th>6177755</th>\n",
       "      <td>W. A. Mozart</td>\n",
       "      <td>W. A. Mozart</td>\n",
       "    </tr>\n",
       "    <tr>\n",
       "      <th>...</th>\n",
       "      <td>...</td>\n",
       "      <td>...</td>\n",
       "    </tr>\n",
       "    <tr>\n",
       "      <th>5846651</th>\n",
       "      <td>Y. Kato  加藤 洋平</td>\n",
       "      <td>Y. Kato  加藤 洋平</td>\n",
       "    </tr>\n",
       "    <tr>\n",
       "      <th>5188468</th>\n",
       "      <td>K. Kondo</td>\n",
       "      <td>Y. Kato  加藤 洋平</td>\n",
       "    </tr>\n",
       "    <tr>\n",
       "      <th>5897397</th>\n",
       "      <td>Y. Kato  加藤 洋平</td>\n",
       "      <td>Y. Kato  加藤 洋平</td>\n",
       "    </tr>\n",
       "    <tr>\n",
       "      <th>5137687</th>\n",
       "      <td>other</td>\n",
       "      <td>A. Antão</td>\n",
       "    </tr>\n",
       "    <tr>\n",
       "      <th>6117672</th>\n",
       "      <td>J. Williams</td>\n",
       "      <td>J. S. Bach</td>\n",
       "    </tr>\n",
       "  </tbody>\n",
       "</table>\n",
       "<p>8145 rows × 2 columns</p>\n",
       "</div>"
      ],
      "text/plain": [
       "               composer predicted_composer\n",
       "ID                                        \n",
       "131072       J. S. Bach         J. S. Bach\n",
       "5322976          T. Fox         J. S. Bach\n",
       "5073314      J. S. Bach    L. V. Beethoven\n",
       "3391526     J. Williams       P. F. Carera\n",
       "6177755    W. A. Mozart       W. A. Mozart\n",
       "...                 ...                ...\n",
       "5846651  Y. Kato  加藤 洋平     Y. Kato  加藤 洋平\n",
       "5188468        K. Kondo     Y. Kato  加藤 洋平\n",
       "5897397  Y. Kato  加藤 洋平     Y. Kato  加藤 洋平\n",
       "5137687           other           A. Antão\n",
       "6117672     J. Williams         J. S. Bach\n",
       "\n",
       "[8145 rows x 2 columns]"
      ]
     },
     "execution_count": 78,
     "metadata": {},
     "output_type": "execute_result"
    }
   ],
   "source": [
    "merge=pd.merge(trunc_labels,predicted_labels, left_on='ID', right_on='ID')\n",
    "merge"
   ]
  },
  {
   "cell_type": "code",
   "execution_count": 79,
   "metadata": {},
   "outputs": [
    {
     "name": "stdout",
     "output_type": "stream",
     "text": [
      "True top 10:\n",
      " J. S. Bach         9498\n",
      "Y. Kato  加藤 洋平     5156\n",
      "W. A. Mozart       4758\n",
      "P. F. Carera       4438\n",
      "T. Fox             4081\n",
      "L. V. Beethoven    3994\n",
      "J. Williams        3082\n",
      "K. Kondo           3033\n",
      "A. Vivaldi         1403\n",
      "J. Hisaishi        1392\n",
      "Name: composer, dtype: int64\n",
      "Predicted top 10 (or less):\n",
      " J. S. Bach         3752\n",
      "Y. Kato  加藤 洋平     1973\n",
      "P. F. Carera        907\n",
      "W. A. Mozart        763\n",
      "L. V. Beethoven     343\n",
      "A. Antão            274\n",
      "T. Fox               76\n",
      "J. Williams          58\n",
      "Name: predicted_composer, dtype: int64\n"
     ]
    }
   ],
   "source": [
    "print(\"True top 10:\\n\", top_composers)\n",
    "print(\"Predicted top 10 (or less):\\n\", predicted_labels['predicted_composer'].value_counts())"
   ]
  },
  {
   "cell_type": "code",
   "execution_count": 80,
   "metadata": {
    "collapsed": false
   },
   "outputs": [],
   "source": [
    "confusion_matrix = pd.crosstab(merge['composer'], merge['predicted_composer'], rownames=['Actual'], colnames=['Predicted'])"
   ]
  },
  {
   "cell_type": "code",
   "execution_count": 81,
   "metadata": {},
   "outputs": [
    {
     "name": "stdout",
     "output_type": "stream",
     "text": [
      "Predicted        A. Antão  J. S. Bach  J. Williams  L. V. Beethoven  \\\n",
      "Actual                                                                \n",
      "A. Vivaldi             10         107            1               15   \n",
      "J. S. Bach             29        1101           11               57   \n",
      "J. Williams            10         321           10               25   \n",
      "K. Kondo               12         338            6               32   \n",
      "L. V. Beethoven        48         306            3              132   \n",
      "P. F. Carera            0         190            7                1   \n",
      "T. Fox                  7         402            7               21   \n",
      "W. A. Mozart           26         503            9               37   \n",
      "Y. Kato  加藤 洋平          0         327            0                0   \n",
      "other                 132         156            4               23   \n",
      "\n",
      "Predicted        P. F. Carera  T. Fox  W. A. Mozart  Y. Kato  加藤 洋平  \n",
      "Actual                                                               \n",
      "A. Vivaldi                 28       4            45              56  \n",
      "J. S. Bach                 41      19           160             507  \n",
      "J. Williams                38       4            68             104  \n",
      "K. Kondo                   21      13            42              94  \n",
      "L. V. Beethoven            27       5            88             224  \n",
      "P. F. Carera              648       1            10              13  \n",
      "T. Fox                     43      12            67              91  \n",
      "W. A. Mozart               47       9           217             155  \n",
      "Y. Kato  加藤 洋平              1       0             0             704  \n",
      "other                      13       9            66              25  \n"
     ]
    }
   ],
   "source": [
    "print(confusion_matrix)"
   ]
  },
  {
   "cell_type": "code",
   "execution_count": 82,
   "metadata": {},
   "outputs": [
    {
     "data": {
      "image/png": "[encoded data removed]",
      "text/plain": [
       "<Figure size 500x500 with 2 Axes>"
      ]
     },
     "metadata": {},
     "output_type": "display_data"
    }
   ],
   "source": [
    "fig, ax=plt.subplots(figsize=(5,5))\n",
    "sn.set(font='Noto Sans TC')\n",
    "sn.heatmap(confusion_matrix, annot=True, ax=ax, fmt='g')\n",
    "plt.show()"
   ]
  },
  {
   "attachments": {},
   "cell_type": "markdown",
   "metadata": {},
   "source": [
    "# Tests"
   ]
  },
  {
   "cell_type": "code",
   "execution_count": 43,
   "metadata": {},
   "outputs": [
    {
     "data": {
      "text/html": [
       "<div>\n",
       "<style scoped>\n",
       "    .dataframe tbody tr th:only-of-type {\n",
       "        vertical-align: middle;\n",
       "    }\n",
       "\n",
       "    .dataframe tbody tr th {\n",
       "        vertical-align: top;\n",
       "    }\n",
       "\n",
       "    .dataframe thead th {\n",
       "        text-align: right;\n",
       "    }\n",
       "</style>\n",
       "<table border=\"1\" class=\"dataframe\">\n",
       "  <thead>\n",
       "    <tr style=\"text-align: right;\">\n",
       "      <th></th>\n",
       "      <th>composer</th>\n",
       "    </tr>\n",
       "    <tr>\n",
       "      <th>ID</th>\n",
       "      <th></th>\n",
       "    </tr>\n",
       "  </thead>\n",
       "  <tbody>\n",
       "    <tr>\n",
       "      <th>5600434</th>\n",
       "      <td>K. Mcnamara; K. Kondo</td>\n",
       "    </tr>\n",
       "    <tr>\n",
       "      <th>5853835</th>\n",
       "      <td>A. Antão</td>\n",
       "    </tr>\n",
       "    <tr>\n",
       "      <th>6035308</th>\n",
       "      <td>A. Antão</td>\n",
       "    </tr>\n",
       "    <tr>\n",
       "      <th>6384933</th>\n",
       "      <td>D. De; A. Antão</td>\n",
       "    </tr>\n",
       "    <tr>\n",
       "      <th>6029626</th>\n",
       "      <td>J. Sebastian; J. S. Bach</td>\n",
       "    </tr>\n",
       "    <tr>\n",
       "      <th>...</th>\n",
       "      <td>...</td>\n",
       "    </tr>\n",
       "    <tr>\n",
       "      <th>6393628</th>\n",
       "      <td>A. Antão</td>\n",
       "    </tr>\n",
       "    <tr>\n",
       "      <th>6270589</th>\n",
       "      <td>D. De; A. Antão</td>\n",
       "    </tr>\n",
       "    <tr>\n",
       "      <th>6090752</th>\n",
       "      <td>A. Antão</td>\n",
       "    </tr>\n",
       "    <tr>\n",
       "      <th>6469965</th>\n",
       "      <td>D. De; A. Antão</td>\n",
       "    </tr>\n",
       "    <tr>\n",
       "      <th>5137687</th>\n",
       "      <td>J. Lo; L. V. Beethoven</td>\n",
       "    </tr>\n",
       "  </tbody>\n",
       "</table>\n",
       "<p>428 rows × 1 columns</p>\n",
       "</div>"
      ],
      "text/plain": [
       "                         composer\n",
       "ID                               \n",
       "5600434     K. Mcnamara; K. Kondo\n",
       "5853835                  A. Antão\n",
       "6035308                  A. Antão\n",
       "6384933           D. De; A. Antão\n",
       "6029626  J. Sebastian; J. S. Bach\n",
       "...                           ...\n",
       "6393628                  A. Antão\n",
       "6270589           D. De; A. Antão\n",
       "6090752                  A. Antão\n",
       "6469965           D. De; A. Antão\n",
       "5137687    J. Lo; L. V. Beethoven\n",
       "\n",
       "[428 rows x 1 columns]"
      ]
     },
     "execution_count": 43,
     "metadata": {},
     "output_type": "execute_result"
    }
   ],
   "source": [
    "true_labels.loc[merge[merge['composer']==\"other\"].index.values]"
   ]
  },
  {
   "cell_type": "code",
   "execution_count": 44,
   "metadata": {},
   "outputs": [
    {
     "data": {
      "text/html": [
       "<div>\n",
       "<style scoped>\n",
       "    .dataframe tbody tr th:only-of-type {\n",
       "        vertical-align: middle;\n",
       "    }\n",
       "\n",
       "    .dataframe tbody tr th {\n",
       "        vertical-align: top;\n",
       "    }\n",
       "\n",
       "    .dataframe thead th {\n",
       "        text-align: right;\n",
       "    }\n",
       "</style>\n",
       "<table border=\"1\" class=\"dataframe\">\n",
       "  <thead>\n",
       "    <tr style=\"text-align: right;\">\n",
       "      <th></th>\n",
       "      <th>composer</th>\n",
       "      <th>predicted_composer</th>\n",
       "    </tr>\n",
       "    <tr>\n",
       "      <th>ID</th>\n",
       "      <th></th>\n",
       "      <th></th>\n",
       "    </tr>\n",
       "  </thead>\n",
       "  <tbody>\n",
       "    <tr>\n",
       "      <th>5600434</th>\n",
       "      <td>other</td>\n",
       "      <td>J. S. Bach</td>\n",
       "    </tr>\n",
       "    <tr>\n",
       "      <th>5853835</th>\n",
       "      <td>other</td>\n",
       "      <td>A. Antão</td>\n",
       "    </tr>\n",
       "    <tr>\n",
       "      <th>6035308</th>\n",
       "      <td>other</td>\n",
       "      <td>W. A. Mozart</td>\n",
       "    </tr>\n",
       "    <tr>\n",
       "      <th>6384933</th>\n",
       "      <td>other</td>\n",
       "      <td>T. Fox</td>\n",
       "    </tr>\n",
       "    <tr>\n",
       "      <th>6029626</th>\n",
       "      <td>other</td>\n",
       "      <td>Y. Kato  加藤 洋平</td>\n",
       "    </tr>\n",
       "    <tr>\n",
       "      <th>...</th>\n",
       "      <td>...</td>\n",
       "      <td>...</td>\n",
       "    </tr>\n",
       "    <tr>\n",
       "      <th>6393628</th>\n",
       "      <td>other</td>\n",
       "      <td>J. S. Bach</td>\n",
       "    </tr>\n",
       "    <tr>\n",
       "      <th>6270589</th>\n",
       "      <td>other</td>\n",
       "      <td>A. Antão</td>\n",
       "    </tr>\n",
       "    <tr>\n",
       "      <th>6090752</th>\n",
       "      <td>other</td>\n",
       "      <td>A. Antão</td>\n",
       "    </tr>\n",
       "    <tr>\n",
       "      <th>6469965</th>\n",
       "      <td>other</td>\n",
       "      <td>L. V. Beethoven</td>\n",
       "    </tr>\n",
       "    <tr>\n",
       "      <th>5137687</th>\n",
       "      <td>other</td>\n",
       "      <td>A. Antão</td>\n",
       "    </tr>\n",
       "  </tbody>\n",
       "</table>\n",
       "<p>428 rows × 2 columns</p>\n",
       "</div>"
      ],
      "text/plain": [
       "        composer predicted_composer\n",
       "ID                                 \n",
       "5600434    other         J. S. Bach\n",
       "5853835    other           A. Antão\n",
       "6035308    other       W. A. Mozart\n",
       "6384933    other             T. Fox\n",
       "6029626    other     Y. Kato  加藤 洋平\n",
       "...          ...                ...\n",
       "6393628    other         J. S. Bach\n",
       "6270589    other           A. Antão\n",
       "6090752    other           A. Antão\n",
       "6469965    other    L. V. Beethoven\n",
       "5137687    other           A. Antão\n",
       "\n",
       "[428 rows x 2 columns]"
      ]
     },
     "execution_count": 44,
     "metadata": {},
     "output_type": "execute_result"
    }
   ],
   "source": [
    "merge[merge['composer']=='other']"
   ]
  },
  {
   "cell_type": "code",
   "execution_count": 85,
   "metadata": {},
   "outputs": [
    {
     "data": {
      "text/plain": [
       "predicted_composer\n",
       "J. S. Bach            46.059416\n",
       "Y. Kato  加藤 洋平        24.220476\n",
       "P. F. Carera          11.134299\n",
       "W. A. Mozart           9.366560\n",
       "L. V. Beethoven        4.210656\n",
       "A. Antão               3.363614\n",
       "T. Fox                 0.932973\n",
       "J. Williams            0.712006\n",
       "dtype: float64"
      ]
     },
     "execution_count": 85,
     "metadata": {},
     "output_type": "execute_result"
    }
   ],
   "source": [
    "predicted_labels.value_counts()*100/len(predicted_labels)"
   ]
  },
  {
   "cell_type": "code",
   "execution_count": null,
   "metadata": {},
   "outputs": [],
   "source": [
    "10%"
   ]
  }
 ],
 "metadata": {
  "kernelspec": {
   "display_name": "Python 3.10.8 64-bit",
   "language": "python",
   "name": "python3"
  },
  "language_info": {
   "codemirror_mode": {
    "name": "ipython",
    "version": 3
   },
   "file_extension": ".py",
   "mimetype": "text/x-python",
   "name": "python",
   "nbconvert_exporter": "python",
   "pygments_lexer": "ipython3",
   "version": "3.10.8"
  },
  "vscode": {
   "interpreter": {
    "hash": "e7370f93d1d0cde622a1f8e1c04877d8463912d04d973331ad4851f04de6915a"
   }
  }
 },
 "nbformat": 4,
 "nbformat_minor": 0
}
