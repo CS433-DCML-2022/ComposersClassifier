{
 "cells": [
  {
   "cell_type": "code",
   "execution_count": 1,
   "metadata": {
    "collapsed": true
   },
   "outputs": [],
   "source": [
    "import pandas as pd\n",
    "\n",
    "FILE = 'metadata.csv'\n",
    "SEPARATOR = ',' # '\\t' for TSV\n",
    "COMPOSER_MODE = True"
   ]
  },
  {
   "cell_type": "code",
   "execution_count": 2,
   "metadata": {
    "collapsed": false
   },
   "outputs": [
    {
     "name": "stdout",
     "output_type": "stream",
     "text": [
      "N = 1504109\n"
     ]
    },
    {
     "data": {
      "text/html": [
       "<div>\n",
       "<style scoped>\n",
       "    .dataframe tbody tr th:only-of-type {\n",
       "        vertical-align: middle;\n",
       "    }\n",
       "\n",
       "    .dataframe tbody tr th {\n",
       "        vertical-align: top;\n",
       "    }\n",
       "\n",
       "    .dataframe thead th {\n",
       "        text-align: right;\n",
       "    }\n",
       "</style>\n",
       "<table border=\"1\" class=\"dataframe\">\n",
       "  <thead>\n",
       "    <tr style=\"text-align: right;\">\n",
       "      <th></th>\n",
       "      <th>title</th>\n",
       "      <th>description</th>\n",
       "      <th>composer</th>\n",
       "    </tr>\n",
       "    <tr>\n",
       "      <th>ID</th>\n",
       "      <th></th>\n",
       "      <th></th>\n",
       "      <th></th>\n",
       "    </tr>\n",
       "  </thead>\n",
       "  <tbody>\n",
       "    <tr>\n",
       "      <th>4939836</th>\n",
       "      <td>Springlek efter Perbj\\\"ors Erik Persson</td>\n",
       "      <td>Note Length 1/8\n",
       "Rhythm polska K1\n",
       "polska K1\n",
       "Key...</td>\n",
       "      <td>&lt;NA&gt;</td>\n",
       "    </tr>\n",
       "    <tr>\n",
       "      <th>5401399</th>\n",
       "      <td>Excerpts in C</td>\n",
       "      <td>&lt;NA&gt;</td>\n",
       "      <td>&lt;NA&gt;</td>\n",
       "    </tr>\n",
       "    <tr>\n",
       "      <th>5925434</th>\n",
       "      <td>Wii Shoppin' for the Big Bands; Wii Shop Chann...</td>\n",
       "      <td>This is meant to be printed for use in Jazz Bi...</td>\n",
       "      <td>Composed by Kazumi Totaka; Arranged by Lars Ka...</td>\n",
       "    </tr>\n",
       "    <tr>\n",
       "      <th>3587506</th>\n",
       "      <td>Hide And Seek</td>\n",
       "      <td>FROM MY OWN hide and seek \"movie not released\"</td>\n",
       "      <td>Brandon</td>\n",
       "    </tr>\n",
       "    <tr>\n",
       "      <th>5161684</th>\n",
       "      <td>The First Love Dream</td>\n",
       "      <td>Note Length - 1/8\n",
       "Key - G\n",
       "Meter - 4/4</td>\n",
       "      <td>&lt;NA&gt;</td>\n",
       "    </tr>\n",
       "  </tbody>\n",
       "</table>\n",
       "</div>"
      ],
      "text/plain": [
       "                                                     title  \\\n",
       "ID                                                           \n",
       "4939836            Springlek efter Perbj\\\"ors Erik Persson   \n",
       "5401399                                      Excerpts in C   \n",
       "5925434  Wii Shoppin' for the Big Bands; Wii Shop Chann...   \n",
       "3587506                                      Hide And Seek   \n",
       "5161684                               The First Love Dream   \n",
       "\n",
       "                                               description  \\\n",
       "ID                                                           \n",
       "4939836  Note Length 1/8\n",
       "Rhythm polska K1\n",
       "polska K1\n",
       "Key...   \n",
       "5401399                                               <NA>   \n",
       "5925434  This is meant to be printed for use in Jazz Bi...   \n",
       "3587506     FROM MY OWN hide and seek \"movie not released\"   \n",
       "5161684             Note Length - 1/8\n",
       "Key - G\n",
       "Meter - 4/4\n",
       "   \n",
       "\n",
       "                                                  composer  \n",
       "ID                                                          \n",
       "4939836                                               <NA>  \n",
       "5401399                                               <NA>  \n",
       "5925434  Composed by Kazumi Totaka; Arranged by Lars Ka...  \n",
       "3587506                                            Brandon  \n",
       "5161684                                               <NA>  "
      ]
     },
     "execution_count": 2,
     "metadata": {},
     "output_type": "execute_result"
    }
   ],
   "source": [
    "dtype = 'string' if COMPOSER_MODE else dict(original=bool, terminated='boolean', converted='Int64', features='Int64', last_error='string')\n",
    "df = pd.read_csv(FILE,\n",
    "                 sep=SEPARATOR,\n",
    "                 escapechar='\\\\',\n",
    "                 index_col=0,\n",
    "                 dtype=dtype)\n",
    "N = len(df.index)\n",
    "print(f\"N = {N}\")\n",
    "df.head()"
   ]
  },
  {
   "cell_type": "code",
   "execution_count": 3,
   "metadata": {
    "collapsed": false
   },
   "outputs": [
    {
     "data": {
      "text/plain": [
       "title          0.999993\n",
       "description    0.496666\n",
       "composer       0.580897\n",
       "dtype: float64"
      ]
     },
     "metadata": {},
     "output_type": "display_data"
    }
   ],
   "source": [
    "if COMPOSER_MODE:\n",
    "  display(df.notna().sum() / N)"
   ]
  },
  {
   "cell_type": "code",
   "execution_count": 18,
   "metadata": {
    "collapsed": false
   },
   "outputs": [],
   "source": [
    "if not COMPOSER_MODE:\n",
    "  missing_originals = (~df.original).sum()\n",
    "  n_converted = df.converted.notna().sum()\n",
    "  n_features = df.features.notna().sum()\n",
    "  print(f\"missing original scores (based on available JSON files): {missing_originals}\\n\"\n",
    "        f\"successfully converted: {n_converted}/{N} ({n_converted/N:.2%})\\n\"\n",
    "        f\"missing files + converted files + conversion errors = {missing_originals + n_converted + 105099}\\n\"\n",
    "        f\"extracted features: {n_features}/{N} ({n_features/N:.2%})\\n\")"
   ]
  }
 ],
 "metadata": {
  "kernelspec": {
   "display_name": "Python 3.10.8 64-bit",
   "language": "python",
   "name": "python3"
  },
  "language_info": {
   "codemirror_mode": {
    "name": "ipython",
    "version": 3
   },
   "file_extension": ".py",
   "mimetype": "text/x-python",
   "name": "python",
   "nbconvert_exporter": "python",
   "pygments_lexer": "ipython3",
   "version": "3.10.8"
  },
  "vscode": {
   "interpreter": {
    "hash": "b0fa6594d8f4cbf19f97940f81e996739fb7646882a419484c72d19e05852a7e"
   }
  }
 },
 "nbformat": 4,
 "nbformat_minor": 0
}
