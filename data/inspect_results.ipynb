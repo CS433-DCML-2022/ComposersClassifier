{
 "cells": [
  {
   "cell_type": "code",
   "execution_count": 9,
   "metadata": {
    "collapsed": true
   },
   "outputs": [],
   "source": [
    "import pandas as pd\n",
    "\n",
    "FILE = 'metadata.zip'\n",
    "SEPARATOR = ',' # '\\t' for TSV\n",
    "COMPOSER_MODE = True"
   ]
  },
  {
   "cell_type": "code",
   "execution_count": 24,
   "outputs": [
    {
     "name": "stdout",
     "output_type": "stream",
     "text": [
      "N = 1504109\n"
     ]
    },
    {
     "data": {
      "text/plain": "                                                     title  \\\nID                                                           \n4939836            Springlek efter Perbj\\\"ors Erik Persson   \n5401399                                      Excerpts in C   \n5925434  Wii Shoppin' for the Big Bands; Wii Shop Chann...   \n3587506                                      Hide And Seek   \n5161684                               The First Love Dream   \n\n                                               description  \\\nID                                                           \n4939836  Note Length 1/8\nRhythm polska K1\npolska K1\nKey...   \n5401399                                               <NA>   \n5925434  This is meant to be printed for use in Jazz Bi...   \n3587506     FROM MY OWN hide and seek \"movie not released\"   \n5161684             Note Length - 1/8\nKey - G\nMeter - 4/4\n   \n\n                                                  composer  \nID                                                          \n4939836                                               <NA>  \n5401399                                               <NA>  \n5925434  Composed by Kazumi Totaka; Arranged by Lars Ka...  \n3587506                                            Brandon  \n5161684                                               <NA>  ",
      "text/html": "<div>\n<style scoped>\n    .dataframe tbody tr th:only-of-type {\n        vertical-align: middle;\n    }\n\n    .dataframe tbody tr th {\n        vertical-align: top;\n    }\n\n    .dataframe thead th {\n        text-align: right;\n    }\n</style>\n<table border=\"1\" class=\"dataframe\">\n  <thead>\n    <tr style=\"text-align: right;\">\n      <th></th>\n      <th>title</th>\n      <th>description</th>\n      <th>composer</th>\n    </tr>\n    <tr>\n      <th>ID</th>\n      <th></th>\n      <th></th>\n      <th></th>\n    </tr>\n  </thead>\n  <tbody>\n    <tr>\n      <th>4939836</th>\n      <td>Springlek efter Perbj\\\"ors Erik Persson</td>\n      <td>Note Length 1/8\nRhythm polska K1\npolska K1\nKey...</td>\n      <td>&lt;NA&gt;</td>\n    </tr>\n    <tr>\n      <th>5401399</th>\n      <td>Excerpts in C</td>\n      <td>&lt;NA&gt;</td>\n      <td>&lt;NA&gt;</td>\n    </tr>\n    <tr>\n      <th>5925434</th>\n      <td>Wii Shoppin' for the Big Bands; Wii Shop Chann...</td>\n      <td>This is meant to be printed for use in Jazz Bi...</td>\n      <td>Composed by Kazumi Totaka; Arranged by Lars Ka...</td>\n    </tr>\n    <tr>\n      <th>3587506</th>\n      <td>Hide And Seek</td>\n      <td>FROM MY OWN hide and seek \"movie not released\"</td>\n      <td>Brandon</td>\n    </tr>\n    <tr>\n      <th>5161684</th>\n      <td>The First Love Dream</td>\n      <td>Note Length - 1/8\nKey - G\nMeter - 4/4</td>\n      <td>&lt;NA&gt;</td>\n    </tr>\n  </tbody>\n</table>\n</div>"
     },
     "execution_count": 24,
     "metadata": {},
     "output_type": "execute_result"
    }
   ],
   "source": [
    "dtype = 'string' if COMPOSER_MODE else dict(original=bool, terminated='boolean', converted='Int64', features='Int64', last_error='string')\n",
    "df = pd.read_csv(FILE,\n",
    "                 sep=SEPARATOR,\n",
    "                 escapechar='\\\\',\n",
    "                 index_col=0,\n",
    "                 dtype=dtype)\n",
    "N = len(df.index)\n",
    "print(f\"N = {N}\")\n",
    "df.head()"
   ],
   "metadata": {
    "collapsed": false
   }
  },
  {
   "cell_type": "code",
   "execution_count": 17,
   "outputs": [
    {
     "data": {
      "text/plain": "title          0.932617\ndescription    0.384009\ncomposer       0.449136\ndtype: float64"
     },
     "metadata": {},
     "output_type": "display_data"
    }
   ],
   "source": [
    "if COMPOSER_MODE:\n",
    "  display(df.notna().sum() / N)"
   ],
   "metadata": {
    "collapsed": false
   }
  },
  {
   "cell_type": "code",
   "execution_count": 18,
   "outputs": [],
   "source": [
    "if not COMPOSER_MODE:\n",
    "  missing_originals = (~df.original).sum()\n",
    "  n_converted = df.converted.notna().sum()\n",
    "  n_features = df.features.notna().sum()\n",
    "  print(f\"missing original scores (based on available JSON files): {missing_originals}\\n\"\n",
    "        f\"successfully converted: {n_converted}/{N} ({n_converted/N:.2%})\\n\"\n",
    "        f\"missing files + converted files + conversion errors = {missing_originals + n_converted + 105099}\\n\"\n",
    "        f\"extracted features: {n_features}/{N} ({n_features/N:.2%})\\n\")"
   ],
   "metadata": {
    "collapsed": false
   }
  },
  {
   "cell_type": "code",
   "execution_count": null,
   "outputs": [],
   "source": [],
   "metadata": {
    "collapsed": false
   }
  }
 ],
 "metadata": {
  "kernelspec": {
   "display_name": "Python 3",
   "language": "python",
   "name": "python3"
  },
  "language_info": {
   "codemirror_mode": {
    "name": "ipython",
    "version": 2
   },
   "file_extension": ".py",
   "mimetype": "text/x-python",
   "name": "python",
   "nbconvert_exporter": "python",
   "pygments_lexer": "ipython2",
   "version": "2.7.6"
  }
 },
 "nbformat": 4,
 "nbformat_minor": 0
}
