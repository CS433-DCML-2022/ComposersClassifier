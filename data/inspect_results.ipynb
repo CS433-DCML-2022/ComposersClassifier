{
 "cells": [
  {
   "cell_type": "code",
   "execution_count": 1,
   "metadata": {
    "collapsed": true
   },
   "outputs": [],
   "source": [
    "import pandas as pd"
   ]
  },
  {
   "cell_type": "code",
   "execution_count": 2,
   "outputs": [
    {
     "data": {
      "text/plain": "         original  terminated  converted  features last_error\nID                                                           \n4939836      True        True      10067      3676       <NA>\n5401399      True        True      28121      6402       <NA>\n5925434      True        True      59211     70345       <NA>\n3587506      True        True      26295      4700       <NA>\n5161684      True        True       8479      2761       <NA>",
      "text/html": "<div>\n<style scoped>\n    .dataframe tbody tr th:only-of-type {\n        vertical-align: middle;\n    }\n\n    .dataframe tbody tr th {\n        vertical-align: top;\n    }\n\n    .dataframe thead th {\n        text-align: right;\n    }\n</style>\n<table border=\"1\" class=\"dataframe\">\n  <thead>\n    <tr style=\"text-align: right;\">\n      <th></th>\n      <th>original</th>\n      <th>terminated</th>\n      <th>converted</th>\n      <th>features</th>\n      <th>last_error</th>\n    </tr>\n    <tr>\n      <th>ID</th>\n      <th></th>\n      <th></th>\n      <th></th>\n      <th></th>\n      <th></th>\n    </tr>\n  </thead>\n  <tbody>\n    <tr>\n      <th>4939836</th>\n      <td>True</td>\n      <td>True</td>\n      <td>10067</td>\n      <td>3676</td>\n      <td>&lt;NA&gt;</td>\n    </tr>\n    <tr>\n      <th>5401399</th>\n      <td>True</td>\n      <td>True</td>\n      <td>28121</td>\n      <td>6402</td>\n      <td>&lt;NA&gt;</td>\n    </tr>\n    <tr>\n      <th>5925434</th>\n      <td>True</td>\n      <td>True</td>\n      <td>59211</td>\n      <td>70345</td>\n      <td>&lt;NA&gt;</td>\n    </tr>\n    <tr>\n      <th>3587506</th>\n      <td>True</td>\n      <td>True</td>\n      <td>26295</td>\n      <td>4700</td>\n      <td>&lt;NA&gt;</td>\n    </tr>\n    <tr>\n      <th>5161684</th>\n      <td>True</td>\n      <td>True</td>\n      <td>8479</td>\n      <td>2761</td>\n      <td>&lt;NA&gt;</td>\n    </tr>\n  </tbody>\n</table>\n</div>"
     },
     "execution_count": 2,
     "metadata": {},
     "output_type": "execute_result"
    }
   ],
   "source": [
    "df = pd.read_csv('tallied.zip',\n",
    "                 sep='\\t',\n",
    "                 index_col=0,\n",
    "                 dtype=dict(original=bool, terminated='boolean', converted='Int64', features='Int64', last_error='string'))\n",
    "df.head()"
   ],
   "metadata": {
    "collapsed": false
   }
  },
  {
   "cell_type": "code",
   "execution_count": 3,
   "outputs": [
    {
     "name": "stdout",
     "output_type": "stream",
     "text": [
      "missing original scores (based on available JSON files): 9272\n",
      "successfully converted: 1505248/1620327 (92.90%)\n",
      "missing files + converted files + conversion errors = 1619619\n",
      "extracted features: 1504109/1620327 (92.83%)\n",
      "\n"
     ]
    }
   ],
   "source": [
    "N = len(df.index)\n",
    "missing_originals = (~df.original).sum()\n",
    "n_converted = df.converted.notna().sum()\n",
    "n_features = df.features.notna().sum()\n",
    "print(f\"missing original scores (based on available JSON files): {missing_originals}\\n\"\n",
    "      f\"successfully converted: {n_converted}/{N} ({n_converted/N:.2%})\\n\"\n",
    "      f\"missing files + converted files + conversion errors = {missing_originals + n_converted + 105099}\\n\"\n",
    "      f\"extracted features: {n_features}/{N} ({n_features/N:.2%})\\n\")"
   ],
   "metadata": {
    "collapsed": false
   }
  }
 ],
 "metadata": {
  "kernelspec": {
   "display_name": "Python 3",
   "language": "python",
   "name": "python3"
  },
  "language_info": {
   "codemirror_mode": {
    "name": "ipython",
    "version": 2
   },
   "file_extension": ".py",
   "mimetype": "text/x-python",
   "name": "python",
   "nbconvert_exporter": "python",
   "pygments_lexer": "ipython2",
   "version": "2.7.6"
  }
 },
 "nbformat": 4,
 "nbformat_minor": 0
}
