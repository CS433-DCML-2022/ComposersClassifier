{
 "cells": [
  {
   "cell_type": "markdown",
   "metadata": {},
   "source": [
    "All labels have been derived from either the title or description fields from ONLY the compositions that did not have a usable label from the composer fields. \n",
    "\n",
    "\n",
    "Decisions\n",
    "- Whether to use additional metadata for labels, if so, priority to use fields (i.e. If no composer in title then check description, or title only?)\n",
    "- capitalise or not before entity recognition (may remove names that resemble non-name words, may retain erroneously capitalized normal words)\n",
    "- delete all single word composers (can add shortcuts for the most popular, e.g. if 'debussy' )\n",
    "\n",
    "To check\n",
    "- how many additional reliable labels can be derived from either/or title and description fields?\n",
    "- Final question - is performance better with/without the additional x labels derived from the other fields?\n",
    "    - To analyse numbers of compositions with and without additional text field composers\n",
    "\n",
    "\n",
    "note: experiments performed on datasets containing 'incomplete' are not representative of the whole metadata.csv"
   ]
  },
  {
   "cell_type": "code",
   "execution_count": 10,
   "metadata": {},
   "outputs": [
    {
     "name": "stdout",
     "output_type": "stream",
     "text": [
      "[('Christmas', 1769), ('First', 1144), ('Irish', 686), ('Three', 641), ('Christmas; Christmas', 574), ('Jesus', 528), ('Morning', 483), ('Tonight', 378), ('French', 373), ('Seven', 340)]\n",
      "\n",
      "Number of unique composers found in Title from 127957 titles,: 57807\n",
      "Composers with more than 1 composition 13242\n",
      "\n",
      "\n",
      "[('J. Chambers', 5223), ('First', 4129), ('R. Reelkey', 3902), ('Francis; F. N. -. Httpwwwmusicavivacom', 2755), ('Length-18', 2298), ('J. Kerr; J. Chambers', 2230), ('Meter', 1542), ('London; F. Titford-Mock', 1326), ('Irish', 1244), ('Second', 938)]\n",
      "\n",
      "Number of unique composers found in Desc from 169928 descriptions,: 70064\n",
      "Composers with more than 1 composition 10532\n"
     ]
    }
   ],
   "source": [
    "import csv\n",
    "\n",
    "composerDictTitles = dict()\n",
    "composerDictDesc = dict()\n",
    "titleCount,descCount = 0,0\n",
    "\n",
    "with open(\"ner_metadata1.csv\",'r') as labels:\n",
    "    tsvreader = csv.reader(labels, delimiter='\\t', lineterminator=\"\\n\")\n",
    "    for line in tsvreader:\n",
    "        if len(line)>1 and line[1]:\n",
    "            titleCount+=1\n",
    "            if composerDictTitles.get(line[1]):\n",
    "                composerDictTitles[line[1]] = composerDictTitles[line[1]] +1\n",
    "            else: composerDictTitles[line[1]] = 1\n",
    "        if len(line)>2 and line[2]:\n",
    "            descCount+=1\n",
    "            if composerDictDesc.get(line[2]):\n",
    "                composerDictDesc[line[2]] = composerDictDesc[line[2]] +1\n",
    "            else:\n",
    "                composerDictDesc[line[2]] = 1\n",
    "\n",
    "sortedComposersByCountTitle = sorted(composerDictTitles.items(), key =lambda x : x[1], reverse=True)\n",
    "sortedComposersByCountDesc = sorted(composerDictDesc.items(), key =lambda x : x[1], reverse=True)\n",
    "\n",
    "print(sortedComposersByCountTitle[:10])\n",
    "print(\"\\nNumber of unique composers found in Title from \" + str(titleCount) + \" titles,: \" + str(len(sortedComposersByCountTitle)))\n",
    "print(\"Composers with more than 1 composition \" + str(len([x for x in filter(lambda x: x[1]>1,sortedComposersByCountTitle)])) )\n",
    "print(\"\\n\")\n",
    "\n",
    "print(sortedComposersByCountDesc[:10])\n",
    "print(\"\\nNumber of unique composers found in Desc from \" + str(descCount) + \" descriptions,: \" + str(len(sortedComposersByCountDesc)))\n",
    "print(\"Composers with more than 1 composition \" + str(len([x for x in filter(lambda x: x[1]>1,sortedComposersByCountDesc)])) )\n",
    "\n"
   ]
  },
  {
   "cell_type": "markdown",
   "metadata": {},
   "source": [
    "First processing observations\n",
    "- 128k titles with valid entities vs 170k descriptions with valid entities\n",
    "- Titles composers consist of mainly non-composer terms\n",
    "- tops from titles don't contain the seeminly real composers from descriptions\n",
    "- need to clean more before they can be used\n",
    "\n",
    "Noted many non-composer terms\n",
    "- Christmas, jesus\n",
    "- ordinal numbers\n",
    "- times of day (morning, tonight)\n",
    "- language/culture descriptives (irish, french)\n",
    "- music terms ('length-18)\n",
    "- place names (London)\n",
    "- web sites (Httpwwwmusicavivacom, musescore)\n",
    "\n",
    "To address - only take entities if entitylabel = person"
   ]
  },
  {
   "cell_type": "code",
   "execution_count": 14,
   "metadata": {},
   "outputs": [
    {
     "name": "stdout",
     "output_type": "stream",
     "text": [
      "['A. -', 'A. -. A. Carol', 'A. -. A. J. Abbey', 'A. -. A. Zero', 'A. -. Adagio', 'A. -. Albert', 'A. -. Altre; Aria', 'A. -. Anver', 'A. -. Apologize', 'A. -. B. Africa']\n",
      "['A---1', 'A-Moll', 'A. -', 'A. -. Altan', 'A. -. Ammeter; F. N. -. Httpwwwmusicavivacom', 'A. -. Ammeter; F. N. -. Httpwwwmusicavivacomnote', 'A. -. Clarinet', 'A. -. Cmeter; F. N. -. Httpwwwmusicavivacom', 'A. -. Cmeter; F. N. -. Httpwwwmusicavivacomnote', 'A. -. Cmeter; F. N. -. Httpwwwmusicavivacomrhythm']\n",
      "\n",
      "Top words in titles:\n",
      "[('S.', 6103), ('C.', 5880), ('M.', 5341), ('T.', 4876), ('A.', 4149), ('D.', 4038), ('J.', 3605), ('B.', 3573), ('P.', 3177), ('L.', 3158), ('H.', 3013), ('-.', 2963), ('F.', 2603), ('G.', 2478), ('W.', 2450), ('R.', 2116), ('N.', 1897), ('E.', 1813), ('O.', 1480), ('I.', 1340), ('V.', 1088), ('K.', 997), ('U.', 603), ('Y.', 540), ('Medley', 317), ('Piano', 313), ('Z.', 313), ('Christmas;', 270), ('Christmas', 268), ('First;', 231), ('Medley;', 217), ('Night', 195), ('Day', 184), ('March', 170), ('Title', 160), ('X.', 153), ('Hornpipe', 150), ('Q.', 150), ('Night;', 149), ('First', 140), ('Three;', 135), ('Day;', 132), ('Morning', 125), ('Intro', 125), ('Alto', 112), ('Cello', 112), ('No', 111), ('Solo', 107), ('Jesus;', 107), ('Ii', 106), ('Four;', 104), ('Winter;', 101), ('Second;', 101), ('Violin', 98), ('French;', 98), ('Theme', 97), ('Waltz', 96), ('S', 95), ('Winter', 94), ('Sax', 93), ('Composition', 90), ('Minor', 89), ('Year', 87), ('Duet', 87), ('Bass', 86), ('Tuba', 83), ('March;', 82), ('The', 81), ('Irish;', 81), ('Years', 78), ('Days', 76), ('Hill', 72), ('House', 70), ('Morning;', 68), ('Bach;', 68), ('C', 67), ('D', 67), ('W', 66), ('French', 65), ('Three', 65), ('Four', 64), ('Part', 63), ('G', 63), ('Years;', 62), ('Chords', 61), ('Year;', 60), ('Moon', 59), ('Wip', 59), ('F', 59), ('Days;', 58), ('City', 57), ('Waltz;', 56), ('Second', 55), ('Tinwhistle', 55), ('America;', 55), ('Hall', 55), ('Tonight;', 55), ('Tuba;', 54), ('Today;', 53), ('Trio', 53)]\n",
      "\n",
      "Top words in descs:\n",
      "[('J.', 17984), ('A.', 10933), ('S.', 10315), ('C.', 9853), ('M.', 9051), ('T.', 8244), ('R.', 5466), ('D.', 5226), ('H.', 5094), ('B.', 4811), ('L.', 4511), ('P.', 4377), ('W.', 4323), ('F.', 4277), ('-.', 4213), ('N.', 4208), ('G.', 4023), ('E.', 3817), ('K.', 3503), ('First;', 2736), ('O.', 2332), ('Length;', 1917), ('Title;', 1896), ('V.', 1827), ('Chambers', 1657), ('I.', 1505), ('Europa;', 1312), ('Z.', 1197), ('Length-18', 1153), ('Meter;', 1135), ('Second;', 1118), ('Deutschland;', 1052), ('English;', 1038), ('Length', 1032), ('Irish;', 975), ('London;', 967), ('Four;', 875), ('First', 836), ('Musicxml;', 790), ('Y.', 785), ('Chambers;', 761), ('Europa', 749), ('U.', 697), ('Year;', 665), ('Berlin;', 641), ('Three;', 604), ('English', 601), ('Capella;', 588), ('Mansfield;', 486), ('Walsh;', 476), ('Third;', 467), ('Deutschland', 456), ('July;', 454), ('Irish', 445), ('Scottish;', 432), ('London', 418), ('G', 406), ('X.', 406), ('Second', 401), ('Christmas;', 381), ('Westfalen;', 380), ('French;', 374), ('Midi;', 363), ('Late;', 343), ('Christen;', 336), ('American;', 325), ('Ckey;', 319), ('England', 308), ('Fribourg;', 302), ('Day;', 301), ('Midi', 301), ('Ii;', 294), ('Tänze;', 293), ('Basel;', 292), ('German;', 288), ('Berlin', 284), ('John;', 282), ('Half;', 266), ('Bern;', 255), ('England;', 248), ('Australia;', 244), ('Gchordon', 244), ('Year', 242), ('Crhythm;', 232), ('Q.', 223), ('Buttrey;', 218), ('Years;', 217), ('Baumgartner;', 214), ('Chris;', 214), ('Peter;', 209), ('Today;', 202), ('Partington;', 196), ('Ago;', 193), ('Day', 187), ('Three', 185), ('Five;', 183), ('Ballade;', 182), ('D', 180), ('Length-14', 180), ('Lektorat;', 177)]\n"
     ]
    }
   ],
   "source": [
    "sortedComposersTitleByName = sorted(composerDictTitles.items(), key =lambda x : x[0])\n",
    "sortedComposersDescByName = sorted(composerDictDesc.items(), key =lambda x : x[0])\n",
    "\n",
    "# print(*[ x[0] for x in sortedComposersByName],sep = '\\n')\n",
    "print([ x[0] for x in sortedComposersTitleByName][:10])\n",
    "print([ x[0] for x in sortedComposersDescByName][:10])\n",
    "\n",
    "composerWordsTitle = [[x for x in word[0].split(\" \")] for word in sortedComposersTitleByName]\n",
    "composerWordsDesc = [[x for x in word[0].split(\" \")] for word in sortedComposersDescByName]\n",
    "\n",
    "composerWordsTitle = [item for sublist in composerWordsTitle for item in sublist if item]\n",
    "composerWordsDesc = [item for sublist in composerWordsDesc for item in sublist if item]\n",
    "\n",
    "# print(composerWords)\n",
    "wordCountDictTitle = dict()\n",
    "for word in composerWordsTitle:\n",
    "    if wordCountDictTitle.get(str(word)):\n",
    "        wordCountDictTitle[word] = wordCountDictTitle[word]+1\n",
    "    else:\n",
    "        wordCountDictTitle[word] = 1\n",
    "\n",
    "# print(composerWords)\n",
    "wordCountDictDesc = dict()\n",
    "for word in composerWordsDesc:\n",
    "    if wordCountDictDesc.get(str(word)):\n",
    "        wordCountDictDesc[word] = wordCountDictDesc[word]+1\n",
    "    else:\n",
    "        wordCountDictDesc[word] = 1\n",
    "\n",
    "print(\"\\nTop words in titles:\")\n",
    "print(sorted(wordCountDictTitle.items(), key =lambda x : x[1],reverse=True)[:100])\n",
    "\n",
    "print(\"\\nTop words in descs:\")\n",
    "print(sorted(wordCountDictDesc.items(), key =lambda x : x[1],reverse=True)[:100])\n"
   ]
  },
  {
   "cell_type": "markdown",
   "metadata": {},
   "source": [
    "More words to remove\n",
    "- '-.', '-', title, hornpipe, medley, march, day, piano,Deutschland,musicxml, cello, solo, alto, chambers, europa, year, capella, bass, tuba, waltz, midi, late, Berlin, year, crhythm, day, length-14, ago, years, Fribourg, england, american, australia, composition, tinwhistle, tuba, wip, morning, night, day march, bass, duet, waltz, alto, winter, theme, tuba, trio"
   ]
  },
  {
   "cell_type": "markdown",
   "metadata": {},
   "source": [
    "Checking new version with better cleaning and only people entities\n"
   ]
  },
  {
   "cell_type": "code",
   "execution_count": 39,
   "metadata": {},
   "outputs": [
    {
     "name": "stdout",
     "output_type": "stream",
     "text": [
      "[('Mary', 154), ('A. Miles', 128), ('J. S. Bach', 110), ('Bush', 109), ('Merry', 89), ('John', 89), ('Intro', 75), ('S. Claus', 72), ('Thomas', 68), ('Johnny', 67)]\n",
      "\n",
      "Number of unique composers found in Title from 17752 titles,: 10023\n",
      "Composers with more than 1 composition 2012\n",
      "\n",
      "\n",
      "[('John', 4360), ('R. Reelkey', 2039), ('Francis; F. Nordberg', 1489), ('Meter', 1375), ('J. Kerr; John', 1243), ('F. Titford-Mock', 723), ('B. W. Hamilton; John', 612), ('Peter', 472), ('R. Robinson', 443), ('Melakarta', 387)]\n",
      "\n",
      "Number of unique composers found in Desc from 53043 descriptions,: 17820\n",
      "Composers with more than 1 composition 3226\n"
     ]
    }
   ],
   "source": [
    "\n",
    "import csv\n",
    "\n",
    "composerDictTitles = dict()\n",
    "composerDictDesc = dict()\n",
    "titleCount,descCount = 0,0\n",
    "\n",
    "with open(\"ner_metadata2_incomplete.csv\",'r') as labels:\n",
    "    tsvreader = csv.reader(labels, delimiter='\\t', lineterminator=\"\\n\")\n",
    "    for line in tsvreader:\n",
    "        if len(line)>1 and line[1]:\n",
    "            titleCount+=1\n",
    "            if composerDictTitles.get(line[1]):\n",
    "                composerDictTitles[line[1]] = composerDictTitles[line[1]] +1\n",
    "            else: composerDictTitles[line[1]] = 1\n",
    "        if len(line)>2 and line[2]:\n",
    "            descCount+=1\n",
    "            if composerDictDesc.get(line[2]):\n",
    "                composerDictDesc[line[2]] = composerDictDesc[line[2]] +1\n",
    "            else:\n",
    "                composerDictDesc[line[2]] = 1\n",
    "\n",
    "sortedComposersByCountTitle = sorted(composerDictTitles.items(), key =lambda x : x[1], reverse=True)\n",
    "sortedComposersByCountDesc = sorted(composerDictDesc.items(), key =lambda x : x[1], reverse=True)\n",
    "\n",
    "print(sortedComposersByCountTitle[:10])\n",
    "print(\"\\nNumber of unique composers found in Title from \" + str(titleCount) + \" titles,: \" + str(len(sortedComposersByCountTitle)))\n",
    "print(\"Composers with more than 1 composition \" + str(len([x for x in filter(lambda x: x[1]>1,sortedComposersByCountTitle)])) )\n",
    "print(\"\\n\")\n",
    "\n",
    "print(sortedComposersByCountDesc[:10])\n",
    "print(\"\\nNumber of unique composers found in Desc from \" + str(descCount) + \" descriptions,: \" + str(len(sortedComposersByCountDesc)))\n",
    "print(\"Composers with more than 1 composition \" + str(len([x for x in filter(lambda x: x[1]>1,sortedComposersByCountDesc)])) )\n",
    "\n"
   ]
  },
  {
   "cell_type": "markdown",
   "metadata": {},
   "source": [
    "Ok looking a bit better\n",
    "Maybe results will be better if leaving capitalisation to assist in identifying surnames\n",
    "\n",
    "Notes\n",
    "- John? Meter? Peter> \n",
    "- is R. Reelkey a name?\n",
    "- Meter\n",
    "\n",
    "Below is attempt with capitalisation and intro removed"
   ]
  },
  {
   "cell_type": "code",
   "execution_count": 43,
   "metadata": {},
   "outputs": [
    {
     "name": "stdout",
     "output_type": "stream",
     "text": [
      "[('Moon', 55), ('C. H. Gabriel', 54), ('A. Miles', 49), ('Silent', 46), ('J. S. Bach', 43), ('Mary', 40), ('R. Lowry', 35), ('G. Ainm', 27), ('B. E. Warren', 26), ('H. Lowden', 24), ('Bush', 24), ('M. D. Y. Know', 24), ('Jack', 21), ('Charlie', 20), ('M. Jig', 20), ('S. Claus', 18), ('H. Potter', 18), ('C. Wesley', 17), ('Thomas', 17), ('M. Channel', 16)]\n",
      "\n",
      "Number of unique composers found in Title from 13830 titles,: 9768\n",
      "Composers with more than 1 composition 1631\n",
      "\n",
      "\n",
      "[('John', 1895), ('Meter', 1133), ('F. Oneill; F. Nordberg', 485), ('Rhythm', 442), ('R. R. Gmajnote', 400), ('J. Kerr; John', 382), ('R. Reelkey', 345), ('F. Titford-Mock', 321), ('J. Campin', 213), ('R. H. Gmajnote', 150), ('R. R. Adornote', 142), ('R. R. Edornote', 134), ('R. H. Dmajnote', 133), ('M. Raagas', 130), ('R. R. Eminnote', 127), ('P. Dunk', 115), ('C. H. Gabriel', 112), ('R. R. Amajnote', 108), ('R. Robinson', 93), ('C. Partington', 90)]\n",
      "\n",
      "Number of unique composers found in Desc from 26084 descriptions,: 12256\n",
      "Composers with more than 1 composition 1599\n"
     ]
    }
   ],
   "source": [
    "import csv\n",
    "\n",
    "composerDictTitles = dict()\n",
    "composerDictDesc = dict()\n",
    "titleCount,descCount = 0,0\n",
    "\n",
    "with open(\"ner_metadata3_incomplete.csv\",'r') as labels:\n",
    "    tsvreader = csv.reader(labels, delimiter='\\t', lineterminator=\"\\n\")\n",
    "    for line in tsvreader:\n",
    "        if len(line)>1 and line[1]:\n",
    "            titleCount+=1\n",
    "            if composerDictTitles.get(line[1]):\n",
    "                composerDictTitles[line[1]] = composerDictTitles[line[1]] +1\n",
    "            else: composerDictTitles[line[1]] = 1\n",
    "        if len(line)>2 and line[2]:\n",
    "            descCount+=1\n",
    "            if composerDictDesc.get(line[2]):\n",
    "                composerDictDesc[line[2]] = composerDictDesc[line[2]] +1\n",
    "            else:\n",
    "                composerDictDesc[line[2]] = 1\n",
    "\n",
    "sortedComposersByCountTitle = sorted(composerDictTitles.items(), key =lambda x : x[1], reverse=True)\n",
    "sortedComposersByCountDesc = sorted(composerDictDesc.items(), key =lambda x : x[1], reverse=True)\n",
    "\n",
    "print(sortedComposersByCountTitle[:20])\n",
    "print(\"\\nNumber of unique composers found in Title from \" + str(titleCount) + \" titles,: \" + str(len(sortedComposersByCountTitle)))\n",
    "print(\"Composers with more than 1 composition \" + str(len([x for x in filter(lambda x: x[1]>1,sortedComposersByCountTitle)])) )\n",
    "print(\"\\n\")\n",
    "\n",
    "print(sortedComposersByCountDesc[:20])\n",
    "print(\"\\nNumber of unique composers found in Desc from \" + str(descCount) + \" descriptions,: \" + str(len(sortedComposersByCountDesc)))\n",
    "print(\"Composers with more than 1 composition \" + str(len([x for x in filter(lambda x: x[1]>1,sortedComposersByCountDesc)])) )\n",
    "\n"
   ]
  },
  {
   "cell_type": "markdown",
   "metadata": {},
   "source": [
    "More cleaning\n",
    "- string quartet, Rhythm\n",
    "- moon? Maid? marquis? Undertale?  -> try remove all single word composers"
   ]
  },
  {
   "cell_type": "markdown",
   "metadata": {},
   "source": [
    "Without single words"
   ]
  },
  {
   "cell_type": "code",
   "execution_count": 44,
   "metadata": {},
   "outputs": [
    {
     "name": "stdout",
     "output_type": "stream",
     "text": [
      "[('C. H. Gabriel', 16), ('R. Lowry', 9), ('J. S. Bach', 9), ('A. Miles', 8), ('J. S. Bach; J. S. Bach', 7), ('G. Ainm', 7), ('D. Murphys', 6), ('H. Lowden', 5), ('J. Cope', 5), ('B. Lass', 5), ('S. Claus', 5), ('C. Wesley', 5), ('J. Bond', 5), ('C. H', 5), ('B. E. Warren', 4), ('K. Rambles', 4), ('M. Apron', 4), ('S. Universe', 4), ('G. Save', 4), ('J. Mcgranahan', 4)]\n",
      "\n",
      "Number of unique composers found in Title from 2446 titles,: 2155\n",
      "Composers with more than 1 composition 175\n",
      "\n",
      "\n",
      "[('J. Kerr', 105), ('F. Oneill; F. Nordberg', 98), ('F. Titford-Mock', 86), ('R. Gmajnote', 80), ('J. Campin', 54), ('M. Raagas', 34), ('R. Edornote', 34), ('P. Dunk', 34), ('C. H. Gabriel', 32), ('H. Gmajnote', 32), ('R. Eminnote', 32), ('R. Adornote', 30), ('S. Mansfield', 30), ('H. Dmajnote', 29), ('C. Partington', 25), ('F. Nordberg', 24), ('R. Amajnote', 24), ('J. Walsh', 21), ('R. Robinson', 20), ('W. Pearson; J. Walsh', 19)]\n",
      "\n",
      "Number of unique composers found in Desc from 4468 descriptions,: 2773\n",
      "Composers with more than 1 composition 336\n"
     ]
    }
   ],
   "source": [
    "import csv\n",
    "\n",
    "composerDictTitles = dict()\n",
    "composerDictDesc = dict()\n",
    "titleCount,descCount = 0,0\n",
    "\n",
    "with open(\"ner_metadata4_incomplete.csv\",'r') as labels:\n",
    "    tsvreader = csv.reader(labels, delimiter='\\t', lineterminator=\"\\n\")\n",
    "    for line in tsvreader:\n",
    "        if len(line)>1 and line[1]:\n",
    "            titleCount+=1\n",
    "            if composerDictTitles.get(line[1]):\n",
    "                composerDictTitles[line[1]] = composerDictTitles[line[1]] +1\n",
    "            else: composerDictTitles[line[1]] = 1\n",
    "        if len(line)>2 and line[2]:\n",
    "            descCount+=1\n",
    "            if composerDictDesc.get(line[2]):\n",
    "                composerDictDesc[line[2]] = composerDictDesc[line[2]] +1\n",
    "            else:\n",
    "                composerDictDesc[line[2]] = 1\n",
    "\n",
    "sortedComposersByCountTitle = sorted(composerDictTitles.items(), key =lambda x : x[1], reverse=True)\n",
    "sortedComposersByCountDesc = sorted(composerDictDesc.items(), key =lambda x : x[1], reverse=True)\n",
    "\n",
    "print(sortedComposersByCountTitle[:20])\n",
    "print(\"\\nNumber of unique composers found in Title from \" + str(titleCount) + \" titles,: \" + str(len(sortedComposersByCountTitle)))\n",
    "print(\"Composers with more than 1 composition \" + str(len([x for x in filter(lambda x: x[1]>1,sortedComposersByCountTitle)])) )\n",
    "print(\"\\n\")\n",
    "\n",
    "print(sortedComposersByCountDesc[:20])\n",
    "print(\"\\nNumber of unique composers found in Desc from \" + str(descCount) + \" descriptions,: \" + str(len(sortedComposersByCountDesc)))\n",
    "print(\"Composers with more than 1 composition \" + str(len([x for x in filter(lambda x: x[1]>1,sortedComposersByCountDesc)])) )\n",
    "\n"
   ]
  },
  {
   "cell_type": "markdown",
   "metadata": {},
   "source": [
    "Looking better\n",
    "- Gmajnote, Amajnote, Eminnote, Adornote ... \n",
    "- S. Universe\n",
    "\n",
    "to inspect the same but without initials "
   ]
  },
  {
   "cell_type": "code",
   "execution_count": 45,
   "metadata": {},
   "outputs": [
    {
     "name": "stdout",
     "output_type": "stream",
     "text": [
      "['A. -A', 'A. A. Pokémon; A. Avalospokémon', 'A. A. Spirit; A. A. Spirit', 'A. Andersen; A. Andersen', 'A. Anthem', 'A. B. H. Invention', 'A. Blues', 'A. Bohemian; A. Bohemian', 'A. Browning', 'A. C. I. A. Made']\n",
      "['A. A. B. Countymeter-24Rhythm-Engelskakey-G', 'A. Akfiddlers', 'A. Alain', 'A. Amnote; F. N. H. Germanymeter', 'A. Andrade; K. Chavezedit', 'A. Ari; N. Aikawa; H. Yamazaki; S. Nakamura', 'A. Avec; D. Tabledit; C. Che', 'A. B. A. Collins', 'A. B. Barnard', 'A. B. C. Longford']\n",
      "\n",
      "Top words in titles:\n",
      "[('S.', 320), ('M.', 309), ('B.', 305), ('J.', 293), ('C.', 263), ('T.', 263), ('D.', 198), ('H.', 177), ('L.', 173), ('P.', 153), ('A.', 141), ('W.', 140), ('R.', 140), ('G.', 124), ('F.', 115), ('K.', 88), ('O.', 83), ('E.', 79), ('N.', 62), ('Y.', 54), ('V.', 47), ('I.', 43), ('Reel', 32), ('U.', 18), ('Jig', 17), ('The', 16), ('Z.', 14), ('Anthem', 12), ('Fancy', 11), ('Q.', 9), ('Blues', 7), ('Strathspey', 7), ('Hill', 7), ('Trombone', 7), ('Delight', 7), ('Man', 6), ('Favourite', 6), ('Of', 6), ('Smith', 5), ('Maid', 5), ('Boy', 5), ('Warmup', 5), ('Dance', 5), ('King', 5), ('Davis', 5), ('Bridge', 5), ('Rambles', 5), ('Castle', 4), ('Martin', 4), ('Rant', 4), ('Town', 4), ('X.', 4), ('Concert', 4), ('Live', 4), ('Mary', 4), ('Carol', 4), ('Brown', 4), ('Dream', 4), ('Trip', 4), ('Wesley', 4), ('Death', 4), ('Miller', 4), ('Main', 4), ('James', 4), ('Potter', 4), ('Ill', 4), ('Jingle', 4), ('Kelly', 4), ('Merry', 4), ('Rose', 4), ('Channel', 4), ('Mater', 3), ('D', 3), ('Williams', 3), ('Black', 3), ('Boat', 3), ('Beat', 3), ('Drummond', 3), ('Girl', 3), ('Chorale', 3), ('Hymn', 3), ('Lass', 3), ('No', 3), ('Jones', 3), ('Saxophone', 3), ('Canon', 3), ('Clarinet', 3), ('Tell', 3), ('Kingsley', 3), ('B', 3), ('Races', 3), ('Time', 3), ('Ed', 3), ('Watts', 3), ('Taylor', 3), ('Undertale', 3), ('Sheeran', 3), ('Down', 3), ('Farewell', 3), ('Love', 3)]\n",
      "\n",
      "Top words in descs:\n",
      "[('J.', 684), ('M.', 511), ('S.', 430), ('C.', 397), ('B.', 349), ('A.', 339), ('D.', 330), ('R.', 274), ('G.', 265), ('H.', 264), ('T.', 259), ('F.', 220), ('W.', 220), ('L.', 213), ('P.', 209), ('K.', 161), ('E.', 140), ('N.', 135), ('V.', 86), ('O.', 78), ('Y.', 35), ('I.', 32), ('Ms', 31), ('Collection', 18), ('Ms;', 17), ('Campin', 16), ('D', 16), ('Mansfield', 13), ('C', 12), ('G', 12), ('U.', 12), ('Walsh', 12), ('Z.', 11), ('X.', 11), ('Dmeter', 11), ('Cnote;', 11), ('Spencer', 10), ('Cnote', 10), ('Jig', 10), ('Wilson', 10), ('Dance', 10), ('Walsh;', 10), ('Old', 9), ('Kuntz', 9), ('John', 9), ('Enjoy', 9), ('A', 9), ('Mansfield;', 9), ('Transcribed;', 9), ('Campin;', 9), ('Partington', 8), ('Thompson;', 8), ('Oneill', 8), ('Jigmeter', 8), ('Nordberg', 7), ('F', 7), ('Dunk', 7), ('Williams', 7), ('E', 7), ('Partington;', 7), ('Q.', 7), ('Furey;', 7), ('Robinson;', 6), ('Strathspey', 6), ('Collmitchell', 6), ('Spencer;', 6), ('Jacobs', 6), ('Robinson', 6), ('Thompson', 6), ('Clarke', 6), ('Major', 6), ('Sacredhymn;', 6), ('Martin;', 6), ('Betsy;', 6), ('Campbell', 5), ('Barnes', 5), ('Miller', 5), ('Goodman', 5), ('Companion', 5), ('The;', 5), ('Note', 5), ('The', 5), ('Oneill;', 5), ('Anote', 5), ('Gnote', 5), ('Miller;', 5), ('Ross', 5), ('Bellon;', 5), ('Akfiddlers', 4), ('Gunn', 4), ('Reel', 4), ('Reed;', 4), ('Smith', 4), ('Martin', 4), ('Ceol', 4), ('Wride', 4), ('Black', 4), ('Merry', 4), ('Titford-Mock', 4), ('Dnote', 4)]\n"
     ]
    }
   ],
   "source": [
    "sortedComposersTitleByName = sorted(composerDictTitles.items(), key =lambda x : x[0])\n",
    "sortedComposersDescByName = sorted(composerDictDesc.items(), key =lambda x : x[0])\n",
    "\n",
    "# print(*[ x[0] for x in sortedComposersByName],sep = '\\n')\n",
    "print([ x[0] for x in sortedComposersTitleByName][:10])\n",
    "print([ x[0] for x in sortedComposersDescByName][:10])\n",
    "\n",
    "composerWordsTitle = [[x for x in word[0].split(\" \")] for word in sortedComposersTitleByName]\n",
    "composerWordsDesc = [[x for x in word[0].split(\" \")] for word in sortedComposersDescByName]\n",
    "\n",
    "composerWordsTitle = [item for sublist in composerWordsTitle for item in sublist if item]\n",
    "composerWordsDesc = [item for sublist in composerWordsDesc for item in sublist if item]\n",
    "\n",
    "# print(composerWords)\n",
    "wordCountDictTitle = dict()\n",
    "for word in composerWordsTitle:\n",
    "    if wordCountDictTitle.get(str(word)):\n",
    "        wordCountDictTitle[word] = wordCountDictTitle[word]+1\n",
    "    else:\n",
    "        wordCountDictTitle[word] = 1\n",
    "\n",
    "# print(composerWords)\n",
    "wordCountDictDesc = dict()\n",
    "for word in composerWordsDesc:\n",
    "    if wordCountDictDesc.get(str(word)):\n",
    "        wordCountDictDesc[word] = wordCountDictDesc[word]+1\n",
    "    else:\n",
    "        wordCountDictDesc[word] = 1\n",
    "\n",
    "print(\"\\nTop words in titles:\")\n",
    "print(sorted(wordCountDictTitle.items(), key =lambda x : x[1],reverse=True)[:100])\n",
    "\n",
    "print(\"\\nTop words in descs:\")\n",
    "print(sorted(wordCountDictDesc.items(), key =lambda x : x[1],reverse=True)[:100])\n"
   ]
  },
  {
   "cell_type": "markdown",
   "metadata": {},
   "source": [
    "words to remove - anthem, blues, jig, cnote, transcribed, sacredhymn, warmup, dance, live, carol, jungle, beat, clarinet, saxophone, undertale, time, races, main, castle, no, hymn, \n"
   ]
  },
  {
   "cell_type": "code",
   "execution_count": 56,
   "metadata": {},
   "outputs": [
    {
     "name": "stdout",
     "output_type": "stream",
     "text": [
      "[('J. S. Bach', 123), ('Chas H Gabriel', 96), ('Austin Miles', 95), ('Robert Lowry', 84), ('Harold Lowden', 59), ('Charles Wesley', 55), ('Harry Potter', 55), ('Gan Ainm', 53), ('Mary Did You Know', 52), ('Mii Channel', 48), ('Robert Harkness', 47), ('Barney Elliott Warren', 45), ('Santa Claus', 41), ('Isaac Watts', 40), ('J. S. Bach; J. S. Bach', 38), ('Chas H', 36), ('L. V. Beethoven', 34), ('James Mcgranahan', 34), ('Ira B Wilson', 33), ('Ding Dong Merrily', 32), ('Fairy Tail Main', 30), ('Haldor Lillenas', 28), ('Battle Hymn', 26), ('Ed Sheeran', 26), ('John Williams', 25), ('James Bond', 25), ('Fairy Tail', 25), ('Sally Gardens', 25), ('Mary Did You Know Mary', 25), ('Masons Apron', 23), ('Morrisons Jig', 23), ('Denis Murphys', 23), ('Howard E Smith', 23), ('Frank Lehman', 23), ('Tom Billys', 22), ('God Save', 22), ('Johnny Cope', 21), ('Steven Universe', 21), ('Mario Kart', 21), ('Thoro Harris', 21), ('Jenny Dang', 21), ('This Lesson1', 20), ('Joseph Barnby', 20), ('John Camidge', 20), ('Dusty Miller', 19), ('Bonny Lass', 19), ('Londonderry Air', 19), ('Sweet Child', 19), ('Careless Whisper', 19), ('Brighton Camp', 19), ('Terry Tully; Terry Tully', 18), ('Green Grow', 18), ('Connie The Soldier', 18), ('Brian Borus', 18), ('W Stillman Martin', 18), ('Harry Potter; Harry Potter', 18), ('Castle Kelly', 18), ('Eleanor Rigby', 18), ('Michael Jackson', 17), ('William J Kirkpatrick', 17), ('Samuel W Beazley', 17), ('Tommy Peoples', 16), ('Homeward Bound', 16), ('Shut Up', 16), ('Taylor Swift', 16), ('Gabriel Chas H Gabriel', 16), ('James Bond; James Bond', 15), ('Kittys Rambles', 15), ('Jno R Sweney', 15), ('Martin Wynnes', 15), ('Charles Hubert Hastings', 15), ('W. A. Mozart', 15), ('Bonaparte Crossing', 15), ('John Brosnans', 15), ('Lucy Farrs', 15), ('Henry Havergal', 14), ('Merry Girls', 14), ('The Pink Panther', 14), ('Bad Apple', 14), ('John Newton', 14), ('Matt Peoples', 14), ('Jacks Maggot', 14), ('Hail Holy Queen', 14), ('The Hymn Of Acxiom', 14), ('Blackberry Blossom', 14), ('Pachelbels Canon', 14), ('Henry Thomas Smart', 13), ('Loch Lomond', 13), ('Morpeth Rant', 13), ('John Cena', 13), ('Toss The Feathers', 13), ('Con Cassidys', 13), ('Billy Boy', 13), ('Johnny Comes', 12), ('The Merry Blacksmith', 12), ('Swallowtail Jig', 12), ('Down Moses', 12), ('Temperance Reel', 12), ('Ionian Mode', 12), ('National Anthem', 12)]\n",
      "\n",
      "Number of unique composers found in Title from 24819 titles,: 16670\n",
      "Composers with more than 1 composition 2978\n",
      "\n",
      "\n",
      "[('Francis Oneill; Frank Nordberg', 1199), ('James Kerr', 989), ('Reelkey Gmajnote', 945), ('Jack Campin', 690), ('Flynn Titford-Mock', 563), ('Frank Nordberg', 505), ('Richard Robinson', 431), ('Reelkey Adornote', 347), ('Hornpipekey Gmajnote', 347), ('Reelkey Edornote', 317), ('Hornpipekey Dmajnote', 316), ('Melakarta Raagas', 314), ('Peter Dunk', 314), ('John Walsh', 312), ('Chris Partington', 294), ('Reelkey Amajnote', 280), ('Reelkey Eminnote', 279), ('Steve Mansfield', 267), ('Chas H Gabriel', 240), ('Fynn Titford-Mock', 218), ('Henry Playford Apollos Banquet', 203), ('Reelkey Bminnote', 179), ('Reelkey Amixnote', 164), ('Chas Sam Thompson', 151), ('Reelkey Dmixnote', 144), ('William Clarke', 136), ('Reelkey Aminnote', 133), ('James Goodman', 129), ('W Pearson; John Walsh', 126), ('Peter Dunk; Fynn Titford-Mock', 125), ('Jno R Sweney', 122), ('Kidson Collmitchell', 117), ('John Buttrey Ms', 115), ('John Rook; Waverton Cumbria', 114), ('Bob Safranek', 114), ('Austin Miles', 105), ('Robert Bremner', 103), ('Book Oliver Ditson', 98), ('George Petrie Collection', 97), ('Reelkey Cmajnote', 96), ('W H Doane', 94), ('Olivier Vienne', 92), ('Robert Lowry', 90), ('John Walsh; W Pearson; John Walsh', 90), ('Anne Wride', 89), ('David Jacobs', 88), ('Joyce Old', 88), ('John Rook', 86), ('Haldor Lillenas', 83), ('Strathspeykey Gmajnote', 82), ('John B Walsh', 80), ('Patrick Cavanagh', 78), ('George Spencer', 78), ('John Offord', 76), ('John Miller', 75), ('Daniel Wright', 74), ('Alice Baillie', 70), ('Strathspeykey Dmajnote', 66), ('Harold Lowden', 65), ('B D Ackley', 65), ('Ira B Wilson', 65), ('Eric Forgeot', 63), ('James Aird', 62), ('Stewart-Robertson The Athole Collection', 62), ('Fynnian Titford-Mock', 61), ('Reelkey Ddornote', 61), ('John Treat Gamut', 60), ('Paul Hardys', 60), ('James Nuttall', 59), ('Dan G Petersen', 58), ('Simon Wilson', 58), ('Reelkey Fmajnote', 57), ('Dave Mallinson', 56), ('Neil Brookes', 56), ('Hornpipekey Amajnote', 55), ('Reelkey Gdornote', 55), ('J. S. Bach', 55), ('Reelkey Dminnote', 54), ('Reelkey Gminnote', 54), ('William Vickers', 54), ('William Ross', 54), ('Polkakey Adornote', 53), ('Kevin Briggs', 51), ('Brian Wilson', 50), ('Steve Wyrick', 49), ('Nicholas Bennett Alawon', 49), ('William Gunn', 49), ('Robert Harkness', 48), ('V3 Sky', 48), ('Isaac Wattsauthor Isaac Wattslanguage', 47), ('Colin Humes', 47), ('Matt Molloy', 46), ('Tho Preston', 46), ('Tom Keays', 46), ('Mrs Wrkettlewell', 45), ('Polkakey Edornote', 44), ('James Winder', 44), ('Thomas Skillern', 43), ('Vmpsimon Wilson', 42), ('Simon Wascher', 41)]\n",
      "\n",
      "Number of unique composers found in Desc from 44674 descriptions,: 19608\n",
      "Composers with more than 1 composition 2920\n"
     ]
    }
   ],
   "source": [
    "\n",
    "\n",
    "\n",
    "composerDictTitles = dict()\n",
    "composerDictDesc = dict()\n",
    "titleCount,descCount = 0,0\n",
    "\n",
    "with open(\"ner_metadata4_init_incomplete.csv\",'r') as labels:\n",
    "    tsvreader = csv.reader(labels, delimiter='\\t', lineterminator=\"\\n\")\n",
    "    for line in tsvreader:\n",
    "        if len(line)>1 and line[1]:\n",
    "            titleCount+=1\n",
    "            if composerDictTitles.get(line[1]):\n",
    "                composerDictTitles[line[1]] = composerDictTitles[line[1]] +1\n",
    "            else: composerDictTitles[line[1]] = 1\n",
    "        if len(line)>2 and line[2]:\n",
    "            descCount+=1\n",
    "            if composerDictDesc.get(line[2]):\n",
    "                composerDictDesc[line[2]] = composerDictDesc[line[2]] +1\n",
    "            else:\n",
    "                composerDictDesc[line[2]] = 1\n",
    "\n",
    "sortedComposersByCountTitle = sorted(composerDictTitles.items(), key =lambda x : x[1], reverse=True)\n",
    "sortedComposersByCountDesc = sorted(composerDictDesc.items(), key =lambda x : x[1], reverse=True)\n",
    "\n",
    "print(sortedComposersByCountTitle[:100])\n",
    "print(\"\\nNumber of unique composers found in Title from \" + str(titleCount) + \" titles,: \" + str(len(sortedComposersByCountTitle)))\n",
    "print(\"Composers with more than 1 composition \" + str(len([x for x in filter(lambda x: x[1]>1,sortedComposersByCountTitle)])) )\n",
    "print(\"\\n\")\n",
    "\n",
    "print(sortedComposersByCountDesc[:100])\n",
    "print(\"\\nNumber of unique composers found in Desc from \" + str(descCount) + \" descriptions,: \" + str(len(sortedComposersByCountDesc)))\n",
    "print(\"Composers with more than 1 composition \" + str(len([x for x in filter(lambda x: x[1]>1,sortedComposersByCountDesc)])) )\n",
    "\n"
   ]
  },
  {
   "cell_type": "markdown",
   "metadata": {},
   "source": [
    "Looking good!\n",
    "\n",
    "Notes\n",
    "- add to disqualifiers = Reelkey, Hornpipekey, Santa\n",
    "- remove duplicates 'J. S. Bach; J. S. Bach'\n",
    "- 'Ding Dong Merrily' Bonny Lass? Battle Hymn? \n",
    "- words: collection, \n"
   ]
  },
  {
   "cell_type": "code",
   "execution_count": 58,
   "metadata": {},
   "outputs": [
    {
     "name": "stdout",
     "output_type": "stream",
     "text": [
      "['A B Simpson', 'A Battle Battle', 'A Dead Princess Naki Oujo', 'A Good', 'A J Abbey', 'A Man Emmett', 'A Mario', 'A Young Virgin', 'A3 Yourname A3- Lauren Cole', 'A4Feng A3; Arirang 아리랑 행진곡']\n",
      "['A B Everett', 'A B Simpson', 'A Bob Ross Themed', 'A Clarinet', 'A Clarinet Of; Ian Good', 'A Clarinet Quintet', 'A Clarinet Trumpet', 'A County Down', 'A Drumset', 'A Furlong Of Edenborrow Town; Mr King; Henry Atkinsons']\n",
      "\n",
      "Top words in titles:\n",
      "[('The', 684), ('John', 411), ('Reel', 262), ('Jig', 252), ('Mary', 233), ('Lady', 184), ('Of', 173), ('Mrs', 171), ('William', 166), ('James', 166), ('St', 151), ('Pokemon', 149), ('Strathspey', 134), ('Dance', 130), ('Battle', 127), ('J', 127), ('Tom', 124), ('Merry', 122), ('B', 118), ('Sweet', 118), ('My', 117), ('Charles', 110), ('Bonny', 105), ('W', 99), ('Harry', 97), ('Henry', 93), ('Thomas', 92), ('George', 92), ('Michael', 91), ('Jack', 89), ('Hymn', 83), ('Delight', 82), ('Johnny', 81), ('Concert', 79), ('Clarinet', 76), ('Castle', 75), ('Bad', 74), ('H', 73), ('De', 73), ('Black', 73), ('S', 72), ('E', 72), ('Trombone', 72), ('Fancy', 72), ('Brown', 69), ('Down', 69), ('Sally', 69), ('Jones', 68), ('Ed', 67), ('Joseph', 67), ('Lewis', 67), ('Man', 66), ('Anthem', 66), ('Mario', 64), ('You', 62), ('Joe', 62), ('Boy', 61), ('Green', 61), ('Billy', 60), ('Simon', 60), ('Blues', 59), ('D', 59), ('Martin', 59), ('C', 58), ('F', 58), ('Taylor', 57), ('Bill', 57), ('Williams', 57), ('Minor', 54), ('A', 53), ('To', 53), ('David', 53), ('La', 53), ('Undertale', 53), ('Yellow', 53), ('Hill', 52), ('Canon', 52), ('Charlie', 51), ('Favourite', 50), ('Furey;', 50), ('Robert', 50), ('House', 49), ('Young', 48), ('M', 48), ('Disney', 48), ('Frank', 47), ('Ii', 46), ('Alan', 46), ('Jingle', 46), ('Scales', 46), ('Arthur', 46), ('Warmup', 46), ('Fairy', 46), ('O', 45), ('G', 45), ('Ill', 45), ('Easy', 44), ('White', 44), ('Rose', 43), ('Farewell', 43)]\n",
      "\n",
      "Top words in descs:\n",
      "[('John', 1706), ('James', 485), ('William', 451), ('Andrew', 429), ('Steve', 386), ('George', 336), ('Paul', 315), ('Jack', 290), ('Frank', 289), ('Thomas', 276), ('David', 265), ('Peter', 264), ('Mary', 264), ('The', 253), ('Reelkey', 250), ('Csource', 247), ('W', 238), ('Ms', 236), ('Charles', 227), ('Michael', 219), ('Alan', 217), ('Henry', 215), ('D', 215), ('De', 212), ('Chris', 205), ('Richard', 205), ('Robert', 201), ('J', 199), ('Simon', 198), ('Joseph', 189), ('C', 182), ('Dave', 180), ('B', 174), ('G', 174), ('F', 167), ('Mrs', 162), ('Nordberg', 161), ('Joe', 156), ('Tom', 154), ('E', 151), ('Genre', 142), ('Jctrillianmitedukey', 135), ('Wilson', 135), ('Buttrey', 134), ('Ms;', 131), ('Martin', 130), ('Kevin', 128), ('Ed', 126), ('Campin', 124), ('Ctranscription', 121), ('Bill', 120), ('H', 120), ('Samuel', 119), ('Matt', 116), ('Mike', 115), ('Collection', 112), ('Williams', 112), ('Mansfield;', 111), ('Gsource', 105), ('Harry', 105), ('Corigin', 102), ('Dsource', 101), ('Nigel', 98), ('La', 97), ('Francis', 94), ('Grhythm', 94), ('Robinson', 94), ('Dmeter', 93), ('Lou', 93), ('A', 91), ('Of', 90), ('Andy', 90), ('Eric', 90), ('Bruce', 89), ('Jig', 89), ('Charlie', 87), ('Slip', 87), ('Dance', 86), ('M', 84), ('Transcribed;', 82), ('Hanny', 81), ('Old', 79), ('Alice', 79), ('Enjoy', 78), ('Rob', 78), ('Spencer', 77), ('Brian', 75), ('Cdiscography', 74), ('L', 73), ('Edward', 73), ('Mansfield', 72), ('Johnny', 71), ('Patrick', 71), ('Jim', 69), ('Tommy', 69), ('Cnote', 68), ('Akfiddlers', 68), ('St', 68), ('Tradkey', 68), ('Phil', 67)]\n"
     ]
    }
   ],
   "source": [
    "sortedComposersTitleByName = sorted(composerDictTitles.items(), key =lambda x : x[0])\n",
    "sortedComposersDescByName = sorted(composerDictDesc.items(), key =lambda x : x[0])\n",
    "\n",
    "# print(*[ x[0] for x in sortedComposersByName],sep = '\\n')\n",
    "print([ x[0] for x in sortedComposersTitleByName][:10])\n",
    "print([ x[0] for x in sortedComposersDescByName][:10])\n",
    "\n",
    "composerWordsTitle = [[x for x in word[0].split(\" \")] for word in sortedComposersTitleByName]\n",
    "composerWordsDesc = [[x for x in word[0].split(\" \")] for word in sortedComposersDescByName]\n",
    "\n",
    "composerWordsTitle = [item for sublist in composerWordsTitle for item in sublist if item]\n",
    "composerWordsDesc = [item for sublist in composerWordsDesc for item in sublist if item]\n",
    "\n",
    "# print(composerWords)\n",
    "wordCountDictTitle = dict()\n",
    "for word in composerWordsTitle:\n",
    "    if wordCountDictTitle.get(str(word)):\n",
    "        wordCountDictTitle[word] = wordCountDictTitle[word]+1\n",
    "    else:\n",
    "        wordCountDictTitle[word] = 1\n",
    "\n",
    "# print(composerWords)\n",
    "wordCountDictDesc = dict()\n",
    "for word in composerWordsDesc:\n",
    "    if wordCountDictDesc.get(str(word)):\n",
    "        wordCountDictDesc[word] = wordCountDictDesc[word]+1\n",
    "    else:\n",
    "        wordCountDictDesc[word] = 1\n",
    "\n",
    "print(\"\\nTop words in titles:\")\n",
    "print(sorted(wordCountDictTitle.items(), key =lambda x : x[1],reverse=True)[:100])\n",
    "\n",
    "print(\"\\nTop words in descs:\")\n",
    "print(sorted(wordCountDictDesc.items(), key =lambda x : x[1],reverse=True)[:100])\n"
   ]
  },
  {
   "cell_type": "markdown",
   "metadata": {},
   "source": [
    "Parsing whole dataset with most recent model to check results of strict title and description processing"
   ]
  },
  {
   "cell_type": "code",
   "execution_count": 66,
   "metadata": {},
   "outputs": [
    {
     "name": "stdout",
     "output_type": "stream",
     "text": [
      "NER Processing of metadata text fields of ONLY compositions that did not have a valid composer\n",
      "\n",
      "Top 100 composers derived from ONLY title metadata fields:\n",
      "\n",
      "[('J. S. Bach', 374), ('C. H. Gabriel', 236), ('A. Miles', 211), ('H. Potter', 196), ('R. Lowry', 185), ('G. Ainm', 171), ('C. Wesley', 132), ('F. Tail', 128), ('J. Bond', 118), ('M. D. Y. Know', 118), ('H. Lowden', 113), ('B. E. Warren', 111), ('J. Mcgranahan', 109), ('M. Channel', 103), ('R. Harkness', 102), ('D. Murphys', 101), ('L. V. Beethoven', 88), ('S. Gardens', 87), ('W. A. Mozart', 82), ('C. H', 79), ('I. Watts', 78), ('M. D. Y. K. Mary', 75), ('M. Jackson', 73), ('S. Universe', 66), ('B. Lass', 66), ('D. Miller', 65), ('E. Sheeran', 65), ('P. Canon', 65), ('S. Up', 65), ('M. Kart', 63), ('H. E. Smith', 62), ('C. Whisper', 61), ('I. B. Wilson', 61), ('D. Boy', 60), ('T. Billys', 59), ('M. Apron', 59), ('J. Barnby', 59), ('J. Williams', 59), ('M. Reel', 58), ('T. Tully', 57), ('E. Rigby', 57), ('J. R. Sweney', 55), ('G. Save', 54), ('S. W. Beazley', 54), ('H. Lillenas', 53), ('S. Child', 53), ('J. Cope', 52), ('F. Lehman', 52), ('K. Reel', 48), ('B. Apple', 47), ('W. S. Martin', 46), ('J. Kellys', 46), ('J. Cena', 46), ('W. J. Kirkpatrick', 45), ('S. Reel', 45), ('J. Dang', 45), ('T. Peoples', 43), ('T. Harris', 43), ('M. Wynnes', 42), ('L. Air', 41), ('G. Grow', 40), ('J. Newton', 40), ('M. Rant', 39), ('B. Hill', 39), ('J. Wards', 39), ('J. Camidge', 39), ('B. Camp', 39), ('B. The', 38), ('L. Lomond', 38), ('L. Farrs', 38), ('J. Dohertys', 38), ('T. Swift', 36), ('B. Crossing', 36), ('S. J. Infirmary', 36), ('C. Band', 35), ('T. Lesson1', 35), ('K. Rambles', 35), ('H. Bound', 35), ('C. Cassidys', 35), ('J. The', 35), ('B. Borus', 34), ('A. Walker', 34), ('S. Victory', 34), ('H. H. Queen', 34), ('B. Lad', 34), ('S. Chariot', 33), ('S. Mario', 33), ('B. Blossom', 33), ('H. Havergal', 32), ('T. T. Feathers', 32), ('J. Clark', 32), ('T. O. Acxiom', 32), ('C. H. Hastings', 31), ('G. Grows', 31), ('B. Boy', 31), ('J. Comes', 30), ('T. P. Panther', 30), ('J. Lind', 30), ('S. Smith', 30), ('K. Wedding', 30)]\n",
      "\n",
      "Number of new unique composers found in Title from 55256 cleaned titles: 28024\n",
      "Composers with more than 1 composition 7142\n",
      "\n",
      "\n",
      "Top 100 composers derived from ONLY description metadata fields:\n",
      "\n",
      "[('F. Nordberg; F. Oneill', 2810), ('J. Kerr', 2263), ('F. Titford-Mock', 2015), ('J. Campin', 1613), ('F. Nordberg', 1089), ('R. Robinson', 1068), ('M. Raagas', 736), ('J. Walsh', 735), ('S. Mansfield', 725), ('P. Dunk', 720), ('C. Partington', 672), ('C. H. Gabriel', 555), ('J. Walsh; W. Pearson', 467), ('C. S. Thompson', 434), ('H. P. A. Banquet', 423), ('J. B. Ms', 344), ('J. Goodman', 325), ('J. R. Sweney', 319), ('W. Clarke', 318), ('W. Cumbria; J. Rook', 309), ('B. Safranek', 283), ('P. Dunk; F. Titford-Mock', 266), ('K. Collmitchell', 264), ('R. Bremner', 248), ('J. Old', 236), ('O. Vienne', 235), ('B. O. Ditson', 235), ('G. P. Collection', 233), ('A. Miles', 228), ('J. Rook', 226), ('W. H. Doane', 223), ('G. Spencer', 215), ('R. Lowry', 206), ('I. Watts', 203), ('D. Jacobs', 202), ('J. Miller', 197), ('H. Lillenas', 192), ('A. Wride', 188), ('P. Cavanagh', 182), ('J. Offord', 180), ('J. B. Walsh', 179), ('D. Wright', 163), ('J. Aird', 154), ('W. Vickers', 152), ('B. D. Ackley', 151), ('S. T. A. Collection', 149), ('S. Wilson', 148), ('K. Briggs', 143), ('A. Baillie', 143), ('D. G. Petersen', 140), ('P. Hardys', 140), ('J. Nuttall', 136), ('J. T. Gamut', 136), ('I. B. Wilson', 134), ('W. Ross', 134), ('H. Lowden', 132), ('J. S. Bach', 132), ('N. Brookes', 130), ('D. Mallinson', 129), ('E. Forgeot', 126), ('V. Wilson', 118), ('M. Bellon', 118), ('W. Gunn', 116), ('T. Skillern', 115), ('J. Winder', 115), ('S. Wascher', 115), ('C. Humes', 112), ('R. Harkness', 110), ('S. Wyrick', 109), ('T. Fox', 109), ('M. Wrkettlewell', 108), ('M. Molloy', 107), ('T. W. Companion', 106), ('V. Sky', 104), ('J. Jctrillianmitedukey', 103), ('P. Stewart', 103), ('I. W. I. Wattslanguage', 103), ('B. Wilson', 101), ('N. B. Alawon', 100), ('T. Preston', 98), ('M. L. Knack', 95), ('T. Keays', 95), ('T. Revd', 90), ('J. Mcgranahan', 88), ('J. Adams', 86), ('J. Walsh; J. J. Londonkey', 85), ('R. Pioneer', 82), ('F. Nordberg; F. O. The', 82), ('D. Dolby; W. Clarke', 81), ('J. M. Black', 81), ('G. Hwatsonmsswanton', 80), ('J. Rutherford', 80), ('J. Aitken; G. Chase', 80), ('W. Reviewed', 79), ('J. Williams', 78), ('R. Palmer', 78), ('J. Barnes', 77), ('M. Hicken', 75), ('N. Gatherer', 74), ('W. A. Mozart', 73)]\n",
      "\n",
      "Number of new unique composers found in Desc from 91354 cleaned descriptions: 36170\n",
      "Composers with more than 1 composition 6736\n",
      "\n",
      "Total composers added to metadata that previously had no composer (from both titles and desctiptions): 131230\n"
     ]
    }
   ],
   "source": [
    "import csv\n",
    "\n",
    "composerDictTitles = dict()\n",
    "composerDictDesc = dict()\n",
    "totalDict = dict()\n",
    "titleCount,descCount = 0,0\n",
    "totalComposersAdded = 0\n",
    "\n",
    "with open(\"ner_metadata5.csv\",'r') as labels:\n",
    "    tsvreader = csv.reader(labels, delimiter='\\t', lineterminator=\"\\n\")\n",
    "    for line in tsvreader:\n",
    "        if (len(line)>1 and line[1]) or (len(line)>2 and line[2]): totalComposersAdded +=1\n",
    "        if len(line)>1 and line[1]:\n",
    "            titleCount+=1\n",
    "            if composerDictTitles.get(line[1]):\n",
    "                composerDictTitles[line[1]] = composerDictTitles[line[1]] +1\n",
    "            else: composerDictTitles[line[1]] = 1\n",
    "        if len(line)>2 and line[2]:\n",
    "            descCount+=1\n",
    "            if composerDictDesc.get(line[2]):\n",
    "                composerDictDesc[line[2]] = composerDictDesc[line[2]] +1\n",
    "            else:\n",
    "                composerDictDesc[line[2]] = 1\n",
    "\n",
    "sortedComposersByCountTitle = sorted(composerDictTitles.items(), key =lambda x : x[1], reverse=True)\n",
    "sortedComposersByCountDesc = sorted(composerDictDesc.items(), key =lambda x : x[1], reverse=True)\n",
    "\n",
    "print(\"NER Processing of metadata text fields of ONLY compositions that did not have a valid composer\\n\")\n",
    "print(\"Top 100 composers derived from ONLY title metadata fields:\\n\")\n",
    "print(sortedComposersByCountTitle[:100])\n",
    "print(\"\\nNumber of new unique composers found in Title from \" + str(titleCount) + \" cleaned titles: \" + str(len(sortedComposersByCountTitle)))\n",
    "print(\"Composers with more than 1 composition \" + str(len([x for x in filter(lambda x: x[1]>1,sortedComposersByCountTitle)])) )\n",
    "print(\"\\n\")\n",
    "print(\"Top 100 composers derived from ONLY description metadata fields:\\n\")\n",
    "print(sortedComposersByCountDesc[:100])\n",
    "print(\"\\nNumber of new unique composers found in Desc from \" + str(descCount) + \" cleaned descriptions: \" + str(len(sortedComposersByCountDesc)))\n",
    "print(\"Composers with more than 1 composition \" + str(len([x for x in filter(lambda x: x[1]>1,sortedComposersByCountDesc)])) )\n",
    "\n",
    "\n",
    "print(\"\\nTotal composers added to metadata that previously had no composer (from both titles and desctiptions): \" + str(totalComposersAdded))"
   ]
  },
  {
   "cell_type": "markdown",
   "metadata": {},
   "source": [
    "131230 new composers gives almost 10% increase in data - we can test performance with and without additional labels?\n",
    "\n",
    "Next step to combine and see the total top composers, first attempting to pull from title then description (and maybe the other order too?)"
   ]
  },
  {
   "cell_type": "code",
   "execution_count": 67,
   "metadata": {},
   "outputs": [
    {
     "name": "stdout",
     "output_type": "stream",
     "text": [
      "['A. -A', 'A. A', 'A. A. A. Mashup', 'A. A. Am', 'A. A. Amoramor', 'A. A. B. The', 'A. A. Cecile', 'A. A. Closing', 'A. A. Copy-Cat; A. Advanced-Copy', 'A. A. Fonn']\n",
      "['A. A. Aishite', 'A. A. Alleluia', 'A. A. Aminnote', 'A. A. Approach; J. S. Bach', 'A. A. Bainnote', 'A. A. Bohusle4N', 'A. A. Book', 'A. A. Book; N. Gatherer', 'A. A. Book; N. Gatherermeter', 'A. A. C. Dmeter']\n",
      "\n",
      "Top words in titles:\n",
      "[('S.', 4602), ('M.', 4036), ('B.', 3696), ('J.', 3655), ('C.', 3515), ('T.', 3284), ('L.', 2494), ('D.', 2432), ('A.', 2431), ('H.', 2337), ('R.', 2202), ('P.', 2128), ('G.', 2030), ('W.', 1930), ('F.', 1616), ('K.', 1216), ('E.', 1207), ('O.', 1138), ('N.', 847), ('Y.', 729), ('I.', 633), ('V.', 587), ('U.', 255), ('Q.', 212), ('Z.', 195), ('Reel', 194), ('The', 145), ('Strathspey', 117), ('X.', 78), ('Fancy', 62), ('Cover', 59), ('Furey;', 55), ('Of', 54), ('Favourite', 51), ('A', 48), ('You', 48), ('Favorite', 47), ('Suite', 47), ('Ii', 46), ('Farewell', 44), ('Furey', 44), ('Band', 42), ('C', 42), ('Boy', 42), ('Easy', 42), ('Williams', 39), ('Mashup', 38), ('Brown', 37), ('Delight', 37), ('Violin', 37), ('Trumpet', 37), ('Canon', 36), ('Man', 36), ('Marching', 36), ('Part', 35), ('Mary', 35), ('Smith', 34), ('Bb', 34), ('Symphony', 34), ('King', 34), ('Show', 33), ('Quintet', 33), ('Full', 33), ('Concert', 32), ('Iii', 32), ('Rock', 32), ('Heart', 31), ('Orchestra', 31), ('Boss', 30), ('Martin', 30), ('Minuet', 30), ('Old', 30), ('Up', 30), ('Bach', 29), ('B', 29), ('Down', 29), ('For', 29), ('House', 29), ('Maid', 29), ('Lullaby', 29), ('Remix', 29), ('Town', 29), ('Star', 28), ('Guitar', 28), ('Jackson', 28), ('Girl', 28), ('D', 28), ('G', 28), ('Satb', 28), ('Chorus', 27), ('Polka', 27), ('Road', 27), ('Soprano', 27), ('Hill', 27), ('Rag', 27), ('Chorale', 27), ('Sheet', 27), ('Miller', 26), ('Potter', 25), ('I', 24)]\n",
      "\n",
      "Top words in descs:\n",
      "[('J.', 9648), ('M.', 6042), ('S.', 5909), ('C.', 5435), ('A.', 5269), ('B.', 5221), ('D.', 4735), ('R.', 3880), ('T.', 3816), ('G.', 3539), ('P.', 3371), ('W.', 3218), ('H.', 3149), ('L.', 3045), ('F.', 2770), ('K.', 2433), ('E.', 2192), ('N.', 1840), ('O.', 1175), ('V.', 1112), ('Y.', 709), ('I.', 690), ('Ms;', 353), ('Ms', 274), ('U.', 220), ('Z.', 209), ('X.', 199), ('C', 186), ('D', 171), ('Q.', 151), ('Campin', 150), ('G', 145), ('Collection', 119), ('Nordberg;', 113), ('Walsh;', 110), ('Mansfield;', 109), ('E', 101), ('Robinson;', 101), ('Dmeter', 99), ('Spencer;', 98), ('The', 90), ('Campin;', 88), ('Ng;', 87), ('Old', 82), ('Mansfield', 79), ('Kuntznote', 78), ('Partington;', 78), ('F', 77), ('Kuntz', 76), ('Williams', 74), ('Miller', 73), ('Reel', 71), ('Gnote', 70), ('Dnote', 70), ('Major', 70), ('A', 69), ('Partington', 68), ('Goodman;', 66), ('Enjoy', 63), ('Dunk;', 63), ('Gmeter', 62), ('Robinson', 61), ('Wilson', 60), ('Akfiddlers', 55), ('Martin', 55), ('Jigmeter', 55), ('Furey;', 55), ('C;', 54), ('Of', 54), ('Mccartney;', 53), ('Reel;', 53), ('Walsh', 52), ('Jignote', 51), ('Martin;', 49), ('Smith;', 48), ('Smith', 47), ('D;', 47), ('The;', 47), ('Spencer', 46), ('Bach', 45), ('Collmitchell', 45), ('Jacobs', 45), ('Rook', 44), ('Thompson', 43), ('Clarke', 43), ('Cranford;', 43), ('Miller;', 43), ('Lennon;', 42), ('Jones', 42), ('Jackson', 41), ('Molloy;', 41), ('John', 40), ('Tunes', 38), ('Hill', 38), ('Kuntzsource;', 38), ('Reidy;', 38), ('Pjh', 38), ('Baillie', 37), ('Goodman', 37), ('Collection;', 37)]\n"
     ]
    }
   ],
   "source": [
    "sortedComposersTitleByName = sorted(composerDictTitles.items(), key =lambda x : x[0])\n",
    "sortedComposersDescByName = sorted(composerDictDesc.items(), key =lambda x : x[0])\n",
    "\n",
    "# print(*[ x[0] for x in sortedComposersByName],sep = '\\n')\n",
    "print([ x[0] for x in sortedComposersTitleByName][:10])\n",
    "print([ x[0] for x in sortedComposersDescByName][:10])\n",
    "\n",
    "composerWordsTitle = [[x for x in word[0].split(\" \")] for word in sortedComposersTitleByName]\n",
    "composerWordsDesc = [[x for x in word[0].split(\" \")] for word in sortedComposersDescByName]\n",
    "\n",
    "composerWordsTitle = [item for sublist in composerWordsTitle for item in sublist if item]\n",
    "composerWordsDesc = [item for sublist in composerWordsDesc for item in sublist if item]\n",
    "\n",
    "# print(composerWords)\n",
    "wordCountDictTitle = dict()\n",
    "for word in composerWordsTitle:\n",
    "    if wordCountDictTitle.get(str(word)):\n",
    "        wordCountDictTitle[word] = wordCountDictTitle[word]+1\n",
    "    else:\n",
    "        wordCountDictTitle[word] = 1\n",
    "\n",
    "# print(composerWords)\n",
    "wordCountDictDesc = dict()\n",
    "for word in composerWordsDesc:\n",
    "    if wordCountDictDesc.get(str(word)):\n",
    "        wordCountDictDesc[word] = wordCountDictDesc[word]+1\n",
    "    else:\n",
    "        wordCountDictDesc[word] = 1\n",
    "\n",
    "print(\"\\nTop words in titles:\")\n",
    "print(sorted(wordCountDictTitle.items(), key =lambda x : x[1],reverse=True)[:100])\n",
    "\n",
    "print(\"\\nTop words in descs:\")\n",
    "print(sorted(wordCountDictDesc.items(), key =lambda x : x[1],reverse=True)[:100])"
   ]
  },
  {
   "cell_type": "markdown",
   "metadata": {},
   "source": [
    "Still some words to remove: house, remix, tunes, enjoy, dmeter, reel, collection,\n",
    "still some weird single word names 'A. -A'\n"
   ]
  }
 ],
 "metadata": {
  "kernelspec": {
   "display_name": "Python 3.10.8 64-bit",
   "language": "python",
   "name": "python3"
  },
  "language_info": {
   "codemirror_mode": {
    "name": "ipython",
    "version": 3
   },
   "file_extension": ".py",
   "mimetype": "text/x-python",
   "name": "python",
   "nbconvert_exporter": "python",
   "pygments_lexer": "ipython3",
   "version": "3.10.8"
  },
  "orig_nbformat": 4,
  "vscode": {
   "interpreter": {
    "hash": "b0fa6594d8f4cbf19f97940f81e996739fb7646882a419484c72d19e05852a7e"
   }
  }
 },
 "nbformat": 4,
 "nbformat_minor": 2
}
