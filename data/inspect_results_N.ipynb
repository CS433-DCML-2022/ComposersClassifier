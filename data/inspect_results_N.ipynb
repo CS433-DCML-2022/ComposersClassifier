{
 "cells": [
  {
   "cell_type": "code",
   "execution_count": 1,
   "metadata": {
    "collapsed": true
   },
   "outputs": [],
   "source": [
    "import pandas as pd\n",
    "\n",
    "FILE = '../../other_sources/downloaded_full_set_metadata.zip'\n",
    "SEPARATOR = ',' # '\\t' for TSV\n",
    "COMPOSER_MODE = True"
   ]
  },
  {
   "cell_type": "code",
   "execution_count": 5,
   "metadata": {
    "collapsed": false
   },
   "outputs": [
    {
     "name": "stdout",
     "output_type": "stream",
     "text": [
      "N = 1504109\n"
     ]
    },
    {
     "data": {
      "text/html": [
       "<div>\n",
       "<style scoped>\n",
       "    .dataframe tbody tr th:only-of-type {\n",
       "        vertical-align: middle;\n",
       "    }\n",
       "\n",
       "    .dataframe tbody tr th {\n",
       "        vertical-align: top;\n",
       "    }\n",
       "\n",
       "    .dataframe thead th {\n",
       "        text-align: right;\n",
       "    }\n",
       "</style>\n",
       "<table border=\"1\" class=\"dataframe\">\n",
       "  <thead>\n",
       "    <tr style=\"text-align: right;\">\n",
       "      <th></th>\n",
       "      <th>title</th>\n",
       "      <th>description</th>\n",
       "      <th>composer</th>\n",
       "    </tr>\n",
       "    <tr>\n",
       "      <th>ID</th>\n",
       "      <th></th>\n",
       "      <th></th>\n",
       "      <th></th>\n",
       "    </tr>\n",
       "  </thead>\n",
       "  <tbody>\n",
       "    <tr>\n",
       "      <th>4939836</th>\n",
       "      <td>Springlek efter Perbj\\\"ors Erik Persson</td>\n",
       "      <td>Note Length 1/8\n",
       "Rhythm polska K1\n",
       "polska K1\n",
       "Key...</td>\n",
       "      <td>&lt;NA&gt;</td>\n",
       "    </tr>\n",
       "    <tr>\n",
       "      <th>5401399</th>\n",
       "      <td>Excerpts in C</td>\n",
       "      <td>&lt;NA&gt;</td>\n",
       "      <td>&lt;NA&gt;</td>\n",
       "    </tr>\n",
       "    <tr>\n",
       "      <th>5925434</th>\n",
       "      <td>Wii Shoppin' for the Big Bands; Wii Shop Chann...</td>\n",
       "      <td>This is meant to be printed for use in Jazz Bi...</td>\n",
       "      <td>Composed by Kazumi Totaka; Arranged by Lars Ka...</td>\n",
       "    </tr>\n",
       "    <tr>\n",
       "      <th>3587506</th>\n",
       "      <td>Hide And Seek</td>\n",
       "      <td>FROM MY OWN hide and seek \"movie not released\"</td>\n",
       "      <td>Brandon</td>\n",
       "    </tr>\n",
       "    <tr>\n",
       "      <th>5161684</th>\n",
       "      <td>The First Love Dream</td>\n",
       "      <td>Note Length - 1/8\n",
       "Key - G\n",
       "Meter - 4/4</td>\n",
       "      <td>&lt;NA&gt;</td>\n",
       "    </tr>\n",
       "  </tbody>\n",
       "</table>\n",
       "</div>"
      ],
      "text/plain": [
       "                                                     title  \\\n",
       "ID                                                           \n",
       "4939836            Springlek efter Perbj\\\"ors Erik Persson   \n",
       "5401399                                      Excerpts in C   \n",
       "5925434  Wii Shoppin' for the Big Bands; Wii Shop Chann...   \n",
       "3587506                                      Hide And Seek   \n",
       "5161684                               The First Love Dream   \n",
       "\n",
       "                                               description  \\\n",
       "ID                                                           \n",
       "4939836  Note Length 1/8\n",
       "Rhythm polska K1\n",
       "polska K1\n",
       "Key...   \n",
       "5401399                                               <NA>   \n",
       "5925434  This is meant to be printed for use in Jazz Bi...   \n",
       "3587506     FROM MY OWN hide and seek \"movie not released\"   \n",
       "5161684             Note Length - 1/8\n",
       "Key - G\n",
       "Meter - 4/4\n",
       "   \n",
       "\n",
       "                                                  composer  \n",
       "ID                                                          \n",
       "4939836                                               <NA>  \n",
       "5401399                                               <NA>  \n",
       "5925434  Composed by Kazumi Totaka; Arranged by Lars Ka...  \n",
       "3587506                                            Brandon  \n",
       "5161684                                               <NA>  "
      ]
     },
     "execution_count": 5,
     "metadata": {},
     "output_type": "execute_result"
    }
   ],
   "source": [
    "dtype = 'string' if COMPOSER_MODE else dict(original=bool, terminated='boolean', converted='Int64', features='Int64', last_error='string')\n",
    "df = pd.read_csv(FILE,\n",
    "                 sep=SEPARATOR,\n",
    "                 escapechar='\\\\',\n",
    "                 index_col=0,\n",
    "                 dtype=dtype)\n",
    "N = len(df.index)\n",
    "print(f\"N = {N}\")\n",
    "df.head()"
   ]
  },
  {
   "cell_type": "code",
   "execution_count": 6,
   "metadata": {
    "collapsed": false
   },
   "outputs": [
    {
     "data": {
      "text/plain": [
       "title          0.999993\n",
       "description    0.496666\n",
       "composer       0.580897\n",
       "dtype: float64"
      ]
     },
     "metadata": {},
     "output_type": "display_data"
    }
   ],
   "source": [
    "if COMPOSER_MODE:\n",
    "  \n",
    "  display(df.notna().sum() / N)"
   ]
  },
  {
   "cell_type": "code",
   "execution_count": 7,
   "metadata": {
    "collapsed": false
   },
   "outputs": [],
   "source": [
    "if not COMPOSER_MODE:\n",
    "  missing_originals = (~df.original).sum()\n",
    "  n_converted = df.converted.notna().sum()\n",
    "  n_features = df.features.notna().sum()\n",
    "  print(f\"missing original scores (based on available JSON files): {missing_originals}\\n\"\n",
    "        f\"successfully converted: {n_converted}/{N} ({n_converted/N:.2%})\\n\"\n",
    "        f\"missing files + converted files + conversion errors = {missing_originals + n_converted + 105099}\\n\"\n",
    "        f\"extracted features: {n_features}/{N} ({n_features/N:.2%})\\n\")"
   ]
  },
  {
   "cell_type": "code",
   "execution_count": null,
   "metadata": {
    "collapsed": false
   },
   "outputs": [],
   "source": []
  },
  {
   "cell_type": "markdown",
   "metadata": {},
   "source": [
    "# Threshold\n",
    "No unknowns, one composer per line"
   ]
  },
  {
   "cell_type": "code",
   "execution_count": 1,
   "metadata": {},
   "outputs": [],
   "source": [
    "%load_ext autoreload\n",
    "%autoreload 2\n",
    "from ray_NER import basic_clean\n",
    "import numpy as np\n",
    "import pandas as pd"
   ]
  },
  {
   "cell_type": "code",
   "execution_count": 2,
   "metadata": {},
   "outputs": [],
   "source": [
    "if not 'data' in locals():\n",
    "    data = pd.read_csv('../other_sources/metadata.csv',\n",
    "                     sep=',',\n",
    "                     escapechar='\\\\',\n",
    "                     index_col=0, dtype=str)"
   ]
  },
  {
   "cell_type": "code",
   "execution_count": 56,
   "metadata": {},
   "outputs": [],
   "source": [
    "threshold = 10"
   ]
  },
  {
   "cell_type": "code",
   "execution_count": 57,
   "metadata": {},
   "outputs": [
    {
     "data": {
      "text/plain": [
       "J. S. Bach         9819\n",
       "Y. Kato  加藤 洋平     5156\n",
       "W. A. Mozart       5044\n",
       "L. V. Beethoven    4372\n",
       "P. F. Carera       4344\n",
       "                   ... \n",
       "S. D. Camacho         1\n",
       "S. A. Sumika          1\n",
       "R. H. P. T. Man       1\n",
       "I. Watt               1\n",
       "K. Konvičný           1\n",
       "Name: composer, Length: 211261, dtype: int64"
      ]
     },
     "execution_count": 57,
     "metadata": {},
     "output_type": "execute_result"
    }
   ],
   "source": [
    "data_comp=data['composer'].apply(lambda x: basic_clean(str(x)))"
   ]
  },
  {
   "cell_type": "code",
   "execution_count": 58,
   "metadata": {},
   "outputs": [
    {
     "data": {
      "text/plain": [
       "J. S. Bach         9819\n",
       "Y. Kato  加藤 洋平     5156\n",
       "W. A. Mozart       5044\n",
       "L. V. Beethoven    4372\n",
       "P. F. Carera       4344\n",
       "T. Fox             3389\n",
       "J. Williams        2992\n",
       "K. Kondo           2831\n",
       "A. Antão           1391\n",
       "A. Vivaldi         1347\n",
       "Name: composer, dtype: int64"
      ]
     },
     "execution_count": 58,
     "metadata": {},
     "output_type": "execute_result"
    }
   ],
   "source": [
    "top_df=data_comp.value_counts()[:threshold]\n",
    "top = top_df.index.values\n",
    "top_df"
   ]
  },
  {
   "cell_type": "code",
   "execution_count": 59,
   "metadata": {},
   "outputs": [],
   "source": [
    "top_IDs=data_comp[data_comp.apply(lambda x: x in top)==True]"
   ]
  },
  {
   "cell_type": "code",
   "execution_count": 62,
   "metadata": {},
   "outputs": [
    {
     "data": {
      "text/plain": [
       "ID\n",
       "6386510           A. Antão\n",
       "131072          J. S. Bach\n",
       "6470811    L. V. Beethoven\n",
       "5322976             T. Fox\n",
       "1874271         J. S. Bach\n",
       "                ...       \n",
       "5897397     Y. Kato  加藤 洋平\n",
       "130039          J. S. Bach\n",
       "5137687    L. V. Beethoven\n",
       "4504286       W. A. Mozart\n",
       "6117672        J. Williams\n",
       "Name: composer, Length: 40685, dtype: object"
      ]
     },
     "execution_count": 62,
     "metadata": {},
     "output_type": "execute_result"
    }
   ],
   "source": [
    "top_IDs"
   ]
  },
  {
   "cell_type": "code",
   "execution_count": 63,
   "metadata": {},
   "outputs": [],
   "source": [
    "top_IDs.to_csv(f\"./best_{threshold}_composers_ID.tsv\", sep='\\t')\n",
    "top_df.to_csv(f\"./best_{threshold}_composers.tsv\", sep='\\t', header=[\"occurences\"], index_label=\"composer\")\n"
   ]
  },
  {
   "cell_type": "code",
   "execution_count": null,
   "metadata": {},
   "outputs": [],
   "source": []
  },
  {
   "cell_type": "markdown",
   "metadata": {},
   "source": [
    "# Stats"
   ]
  },
  {
   "cell_type": "code",
   "execution_count": 1,
   "metadata": {},
   "outputs": [],
   "source": [
    "%load_ext autoreload\n",
    "%autoreload 2\n",
    "from ray_NER import basic_clean\n",
    "import numpy as np\n",
    "import pandas as pd\n",
    "import matplotlib.pyplot as plt"
   ]
  },
  {
   "cell_type": "code",
   "execution_count": 3,
   "metadata": {},
   "outputs": [],
   "source": [
    "if not 'data' in locals():\n",
    "    data = pd.read_csv('../other_sources/metadata.csv',\n",
    "                     sep=',',\n",
    "                     escapechar='\\\\',\n",
    "                     index_col=0, dtype=str)"
   ]
  },
  {
   "cell_type": "code",
   "execution_count": 4,
   "metadata": {},
   "outputs": [],
   "source": [
    "threshold = 20\n",
    "counts_before =data['composer'].value_counts()\n",
    "top_before = counts_before[:threshold]"
   ]
  },
  {
   "cell_type": "code",
   "execution_count": 5,
   "metadata": {},
   "outputs": [
    {
     "data": {
      "text/plain": [
       "Composer                       24810\n",
       "anon.                           4274\n",
       "Pierangelo Fernandes Carera     3855\n",
       "Traditional                     3162\n",
       "Yohei Kato * 加藤 洋平              2794\n",
       "Yohei Kato * 加藤洋平               2353\n",
       "Trad.                           2223\n",
       "Toby Fox                        1757\n",
       "Johann Sebastian Bach           1757\n",
       "Trad                            1699\n",
       "John Williams                   1591\n",
       "Tradicional                     1541\n",
       "Koji Kondo                      1533\n",
       "J. S. Bach                      1402\n",
       "William Marshall                1166\n",
       "Ana Antão                       1053\n",
       "J.S. Bach                       1028\n",
       "S. M. Kudlo                     1025\n",
       "Miriam Kook                      987\n",
       "Eric Bingham-Kumpf               977\n",
       "Name: composer, dtype: int64"
      ]
     },
     "execution_count": 5,
     "metadata": {},
     "output_type": "execute_result"
    }
   ],
   "source": [
    "top_before"
   ]
  },
  {
   "cell_type": "code",
   "execution_count": 6,
   "metadata": {},
   "outputs": [
    {
     "data": {
      "text/plain": [
       "<AxesSubplot: >"
      ]
     },
     "execution_count": 6,
     "metadata": {},
     "output_type": "execute_result"
    },
    {
     "name": "stderr",
     "output_type": "stream",
     "text": [
      "/home/nathan/.local/lib/python3.10/site-packages/IPython/core/events.py:89: UserWarning: Glyph 21152 (\\N{CJK UNIFIED IDEOGRAPH-52A0}) missing from current font.\n",
      "  func(*args, **kwargs)\n",
      "/home/nathan/.local/lib/python3.10/site-packages/IPython/core/events.py:89: UserWarning: Glyph 34276 (\\N{CJK UNIFIED IDEOGRAPH-85E4}) missing from current font.\n",
      "  func(*args, **kwargs)\n",
      "/home/nathan/.local/lib/python3.10/site-packages/IPython/core/events.py:89: UserWarning: Glyph 27915 (\\N{CJK UNIFIED IDEOGRAPH-6D0B}) missing from current font.\n",
      "  func(*args, **kwargs)\n",
      "/home/nathan/.local/lib/python3.10/site-packages/IPython/core/events.py:89: UserWarning: Glyph 24179 (\\N{CJK UNIFIED IDEOGRAPH-5E73}) missing from current font.\n",
      "  func(*args, **kwargs)\n",
      "/home/nathan/.local/lib/python3.10/site-packages/IPython/core/pylabtools.py:151: UserWarning: Glyph 21152 (\\N{CJK UNIFIED IDEOGRAPH-52A0}) missing from current font.\n",
      "  fig.canvas.print_figure(bytes_io, **kw)\n",
      "/home/nathan/.local/lib/python3.10/site-packages/IPython/core/pylabtools.py:151: UserWarning: Glyph 34276 (\\N{CJK UNIFIED IDEOGRAPH-85E4}) missing from current font.\n",
      "  fig.canvas.print_figure(bytes_io, **kw)\n",
      "/home/nathan/.local/lib/python3.10/site-packages/IPython/core/pylabtools.py:151: UserWarning: Glyph 27915 (\\N{CJK UNIFIED IDEOGRAPH-6D0B}) missing from current font.\n",
      "  fig.canvas.print_figure(bytes_io, **kw)\n",
      "/home/nathan/.local/lib/python3.10/site-packages/IPython/core/pylabtools.py:151: UserWarning: Glyph 24179 (\\N{CJK UNIFIED IDEOGRAPH-5E73}) missing from current font.\n",
      "  fig.canvas.print_figure(bytes_io, **kw)\n"
     ]
    },
    {
     "data": {
      "image/png": "[encoded data removed]",
      "text/plain": [
       "<Figure size 640x480 with 1 Axes>"
      ]
     },
     "metadata": {},
     "output_type": "display_data"
    }
   ],
   "source": [
    "top_before.plot(kind='bar')"
   ]
  },
  {
   "cell_type": "code",
   "execution_count": 7,
   "metadata": {},
   "outputs": [
    {
     "data": {
      "text/plain": [
       "J. S. Bach         9819\n",
       "Y. Kato  加藤 洋平     5156\n",
       "W. A. Mozart       5044\n",
       "L. V. Beethoven    4372\n",
       "P. F. Carera       4344\n",
       "T. Fox             3389\n",
       "J. Williams        2992\n",
       "K. Kondo           2831\n",
       "A. Antão           1391\n",
       "A. Vivaldi         1347\n",
       "J. Hisaishi        1303\n",
       "H. Zimmer          1227\n",
       "W. Marshall        1222\n",
       "F. Schubert        1155\n",
       "S. M. Kudlo        1103\n",
       "J. Pachelbel       1083\n",
       "J. Buchanans       1068\n",
       "J. Brahms          1055\n",
       "G. F. Handel        994\n",
       "M. Kook             987\n",
       "Name: composer, dtype: int64"
      ]
     },
     "execution_count": 7,
     "metadata": {},
     "output_type": "execute_result"
    }
   ],
   "source": [
    "counts_after = data[\"composer\"].apply(lambda x: basic_clean(str(x))).value_counts()\n",
    "top_after = counts_after[:threshold]\n",
    "top_after"
   ]
  },
  {
   "cell_type": "code",
   "execution_count": 8,
   "metadata": {},
   "outputs": [
    {
     "data": {
      "text/plain": [
       "<AxesSubplot: >"
      ]
     },
     "execution_count": 8,
     "metadata": {},
     "output_type": "execute_result"
    },
    {
     "name": "stderr",
     "output_type": "stream",
     "text": [
      "/home/nathan/.local/lib/python3.10/site-packages/IPython/core/events.py:89: UserWarning: Glyph 21152 (\\N{CJK UNIFIED IDEOGRAPH-52A0}) missing from current font.\n",
      "  func(*args, **kwargs)\n",
      "/home/nathan/.local/lib/python3.10/site-packages/IPython/core/events.py:89: UserWarning: Glyph 34276 (\\N{CJK UNIFIED IDEOGRAPH-85E4}) missing from current font.\n",
      "  func(*args, **kwargs)\n",
      "/home/nathan/.local/lib/python3.10/site-packages/IPython/core/events.py:89: UserWarning: Glyph 27915 (\\N{CJK UNIFIED IDEOGRAPH-6D0B}) missing from current font.\n",
      "  func(*args, **kwargs)\n",
      "/home/nathan/.local/lib/python3.10/site-packages/IPython/core/events.py:89: UserWarning: Glyph 24179 (\\N{CJK UNIFIED IDEOGRAPH-5E73}) missing from current font.\n",
      "  func(*args, **kwargs)\n",
      "/home/nathan/.local/lib/python3.10/site-packages/IPython/core/pylabtools.py:151: UserWarning: Glyph 21152 (\\N{CJK UNIFIED IDEOGRAPH-52A0}) missing from current font.\n",
      "  fig.canvas.print_figure(bytes_io, **kw)\n",
      "/home/nathan/.local/lib/python3.10/site-packages/IPython/core/pylabtools.py:151: UserWarning: Glyph 34276 (\\N{CJK UNIFIED IDEOGRAPH-85E4}) missing from current font.\n",
      "  fig.canvas.print_figure(bytes_io, **kw)\n",
      "/home/nathan/.local/lib/python3.10/site-packages/IPython/core/pylabtools.py:151: UserWarning: Glyph 27915 (\\N{CJK UNIFIED IDEOGRAPH-6D0B}) missing from current font.\n",
      "  fig.canvas.print_figure(bytes_io, **kw)\n",
      "/home/nathan/.local/lib/python3.10/site-packages/IPython/core/pylabtools.py:151: UserWarning: Glyph 24179 (\\N{CJK UNIFIED IDEOGRAPH-5E73}) missing from current font.\n",
      "  fig.canvas.print_figure(bytes_io, **kw)\n"
     ]
    },
    {
     "data": {
      "image/png": "[encoded data removed]",
      "text/plain": [
       "<Figure size 640x480 with 1 Axes>"
      ]
     },
     "metadata": {},
     "output_type": "display_data"
    }
   ],
   "source": [
    "top_after.plot(kind='bar')"
   ]
  },
  {
   "cell_type": "code",
   "execution_count": null,
   "metadata": {},
   "outputs": [],
   "source": []
  }
 ],
 "metadata": {
  "kernelspec": {
   "display_name": "Python 3.10.8 64-bit",
   "language": "python",
   "name": "python3"
  },
  "language_info": {
   "codemirror_mode": {
    "name": "ipython",
    "version": 3
   },
   "file_extension": ".py",
   "mimetype": "text/x-python",
   "name": "python",
   "nbconvert_exporter": "python",
   "pygments_lexer": "ipython3",
   "version": "3.10.8"
  },
  "vscode": {
   "interpreter": {
    "hash": "e7370f93d1d0cde622a1f8e1c04877d8463912d04d973331ad4851f04de6915a"
   }
  }
 },
 "nbformat": 4,
 "nbformat_minor": 0
}
