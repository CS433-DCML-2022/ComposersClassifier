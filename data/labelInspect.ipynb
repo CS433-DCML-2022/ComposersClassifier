{
 "cells": [
  {
   "cell_type": "markdown",
   "metadata": {},
   "source": [
    "looking at labels sample of composers to determine best formatting/cleaning methods and whether there is benefit in using examples where labels were derived from secondary text fields."
   ]
  },
  {
   "cell_type": "code",
   "execution_count": 73,
   "metadata": {},
   "outputs": [
    {
     "name": "stdout",
     "output_type": "stream",
     "text": [
      "[('J. S. Bach', 9498), ('Y. Kato  加藤 洋平', 5156), ('W. A. Mozart', 4758), ('P. F. Carera', 4438), ('T. Fox', 4081), ('L. V. Beethoven', 3994), ('J. Williams', 3082), ('K. Kondo', 3033), ('A. Vivaldi', 1403), ('J. Hisaishi', 1392), ('H. Zimmer', 1240), ('F. Schubert', 1226), ('W. Marshall', 1222), ('J. Pachelbel', 1138), ('A. Antão', 1132), ('J. Brahms', 1126), ('S. M. Kudlo', 1114), ('J. B. S. T. Page', 1069), ('N. Uematsu', 1046), ('F. Chopin', 1010), ('G. F. Handel', 1007), ('M. Kook', 987), ('E. Bingham-Kumpf', 977), ('A. Menken', 904), ('L. Cohen', 896), ('C. Miranda', 865), ('R. Djawadi', 864), ('R. Karle', 846), ('E. Sheeran', 845), ('N. Gow', 804), ('J. S. Skinner', 761), ('A. Walker', 754), ('Coldplay', 735), ('G. Holst', 711), ('J. Dowland', 709), ('T. Jokilehto', 700), ('F. Mercury', 690), ('H. Purcell', 669), ('A. L. Webber', 660), ('C. Debussy', 648), ('G. F. Händel', 644), ('J. Masuda', 633), ('G. Verdi', 633), ('Pentatonix', 633), ('S. Joplin', 630), ('Yiruma', 630), ('T. Ocarolan', 625), ('A. Piazzolla', 624), ('Queen', 621), ('Y. Shimomura', 602)]\n",
      "\n",
      "Number of unique composers found: 214308 from a total of 744311 compositions\n",
      "Composers with more than 1 composition 79281\n"
     ]
    }
   ],
   "source": [
    "import csv\n",
    "composerDict = dict()\n",
    "compCountSlim = 0\n",
    "\n",
    "with open(\"slim_metadata.csv\",'r') as labels:\n",
    "    csvreader = csv.reader(labels)\n",
    "    for line in csvreader:\n",
    "        compCountSlim+=1\n",
    "        if composerDict.get(line[1]):\n",
    "            composerDict[line[1]] = composerDict[line[1]] +1\n",
    "        else:\n",
    "            composerDict[line[1]] = 1\n",
    "\n",
    "sortedComposersByCount1 = sorted(composerDict.items(), key =lambda x : x[1], reverse=True)\n",
    "print(sortedComposersByCount1[:50])\n",
    "print(\"\\nNumber of unique composers found: \" + str(len(sortedComposersByCount1)) + \" from a total of \" + str(compCountSlim) + \" compositions\")\n",
    "print(\"Composers with more than 1 composition \" + str(len([x for x in filter(lambda x: x[1]>1,sortedComposersByCount1)])) )\n",
    "# print(*sortedComposersByCount[:100], sep = \"\\n\")\n",
    "\n"
   ]
  },
  {
   "cell_type": "code",
   "execution_count": 74,
   "metadata": {},
   "outputs": [
    {
     "name": "stdout",
     "output_type": "stream",
     "text": [
      "['A-30; M. Wackenheim', 'A-40; J. J. Rioux', 'A-57-2; L. Grzybowski; Strophes', 'A-57-2; Strophes; L. Grzybowski', 'A-Ah', 'A-Comp', 'A-Dorian', 'A-Dur', 'A-Galope', 'A-Ha']\n",
      "\n",
      "Top words in sample:\n",
      "[('J.', 27771), ('A.', 27419), ('M.', 25837), ('S.', 20657), ('C.', 19241), ('D.', 18243), ('T.', 17781), ('B.', 15138), ('L.', 14822), ('R.', 14162), ('P.', 13131), ('E.', 13121), ('F.', 12691), ('G.', 12237), ('H.', 11493), ('K.', 10678), ('N.', 8635), ('W.', 7631), ('O.', 7280), ('I.', 6448), ('V.', 6435), ('Y.', 3482), ('Z.', 2093), ('U.', 1526), ('X.', 668), ('Q.', 639), ('作.', 500), ('М.', 476), ('А.', 456), ('Williams', 407), ('C', 382), ('Fox', 346), ('Smith', 288), ('작.', 273), ('С.', 270), ('В.', 265), ('B', 259), ('M', 246), ('Jr', 223), ('И.', 206)]\n"
     ]
    }
   ],
   "source": [
    "sortedComposersByName = sorted(composerDict.items(), key =lambda x : x[0])\n",
    "# print(*[ x[0] for x in sortedComposersByName],sep = '\\n')\n",
    "print([ x[0] for x in sortedComposersByName][:10])\n",
    "\n",
    "composerWords = [[x for x in word[0].split(\" \")] for word in sortedComposersByName]\n",
    "composerWords = [item for sublist in composerWords for item in sublist if item]\n",
    "# print(composerWords)\n",
    "wordCountDict = dict()\n",
    "for word in composerWords:\n",
    "    if wordCountDict.get(str(word)):\n",
    "        wordCountDict[word] = wordCountDict[word]+1\n",
    "    else:\n",
    "        wordCountDict[word] = 1\n",
    "print(\"\\nTop words in sample:\")\n",
    "print(sorted(wordCountDict.items(), key =lambda x : x[1],reverse=True)[:40])"
   ]
  },
  {
   "cell_type": "code",
   "execution_count": 75,
   "metadata": {},
   "outputs": [
    {
     "name": "stdout",
     "output_type": "stream",
     "text": [
      "[('J. S. Bach', 9972), ('Y. Kato  加藤 洋平', 5156), ('W. A. Mozart', 4899), ('P. F. Carera', 4438), ('T. Fox', 4187), ('L. V. Beethoven', 4133), ('J. Williams', 3205), ('K. Kondo', 3066), ('F. Oneill; F. Nordberg', 2675), ('J. Kerr', 2220), ('F. Titford-Mock', 1756), ('J. Campin', 1425), ('J. Hisaishi', 1425), ('A. Vivaldi', 1407), ('H. Zimmer', 1267), ('F. Schubert', 1232), ('W. Marshall', 1223), ('J. Pachelbel', 1141), ('A. Antão', 1132), ('J. Brahms', 1128), ('S. M. Kudlo', 1114), ('J. B. S. T. Page', 1069), ('R. Robinson', 1066), ('F. Nordberg', 1053), ('N. Uematsu', 1051), ('F. Chopin', 1024), ('G. F. Handel', 1022), ('M. Kook', 987), ('E. Bingham-Kumpf', 977), ('E. Sheeran', 944), ('C. H. Gabriel', 931), ('L. Cohen', 912), ('A. Menken', 909), ('R. Djawadi', 879), ('C. Miranda', 865), ('R. Karle', 846), ('N. Gow', 825), ('A. Walker', 802), ('J. S. Skinner', 762), ('Coldplay', 735), ('G. Holst', 734), ('J. Dowland', 722), ('J. Walsh', 718), ('T. Jokilehto', 700), ('F. Mercury', 691), ('H. Purcell', 684), ('C. Debussy', 671), ('A. L. Webber', 666), ('S. Mansfield', 648), ('S. Joplin', 647)]\n",
      "\n",
      "Number of unique composers found: 264775 from a total of 875571 compositions\n",
      "Composers with more than 1 composition 90749\n"
     ]
    }
   ],
   "source": [
    "import csv\n",
    "composerDictAll = dict()\n",
    "compCountSlimAll = 0\n",
    "\n",
    "with open(\"slim_all_fields_metadata.csv\",'r') as labels:\n",
    "    csvreader = csv.reader(labels)\n",
    "    for line in csvreader:\n",
    "        compCountSlimAll +=1\n",
    "        if composerDictAll.get(line[1]):\n",
    "            composerDictAll[line[1]] = composerDictAll[line[1]] +1\n",
    "        else:\n",
    "            composerDictAll[line[1]] = 1\n",
    "\n",
    "sortedComposersByCount = sorted(composerDictAll.items(), key =lambda x : x[1], reverse=True)\n",
    "print(sortedComposersByCount[:50])\n",
    "print(\"\\nNumber of unique composers found: \" + str(len(sortedComposersByCount)) + \" from a total of \" + str(compCountSlimAll) + \" compositions\")\n",
    "print(\"Composers with more than 1 composition \" + str(len([x for x in filter(lambda x: x[1]>1,sortedComposersByCount)])) )\n",
    "\n",
    "# print(*sortedComposersByCount[:100], sep = \"\\n\")"
   ]
  },
  {
   "cell_type": "markdown",
   "metadata": {},
   "source": [
    "Comparison of top 100 counts with and without metadata"
   ]
  },
  {
   "cell_type": "code",
   "execution_count": 78,
   "metadata": {},
   "outputs": [
    {
     "data": {
      "text/plain": [
       "[(('J. S. Bach', 9972), ('J. S. Bach', 9498)),\n",
       " (('Y. Kato  加藤 洋平', 5156), ('Y. Kato  加藤 洋平', 5156)),\n",
       " (('W. A. Mozart', 4899), ('W. A. Mozart', 4758)),\n",
       " (('P. F. Carera', 4438), ('P. F. Carera', 4438)),\n",
       " (('T. Fox', 4187), ('T. Fox', 4081)),\n",
       " (('L. V. Beethoven', 4133), ('L. V. Beethoven', 3994)),\n",
       " (('J. Williams', 3205), ('J. Williams', 3082)),\n",
       " (('K. Kondo', 3066), ('K. Kondo', 3033)),\n",
       " (('F. Oneill; F. Nordberg', 2675), ('A. Vivaldi', 1403)),\n",
       " (('J. Kerr', 2220), ('J. Hisaishi', 1392)),\n",
       " (('F. Titford-Mock', 1756), ('H. Zimmer', 1240)),\n",
       " (('J. Campin', 1425), ('F. Schubert', 1226)),\n",
       " (('J. Hisaishi', 1425), ('W. Marshall', 1222)),\n",
       " (('A. Vivaldi', 1407), ('J. Pachelbel', 1138)),\n",
       " (('H. Zimmer', 1267), ('A. Antão', 1132)),\n",
       " (('F. Schubert', 1232), ('J. Brahms', 1126)),\n",
       " (('W. Marshall', 1223), ('S. M. Kudlo', 1114)),\n",
       " (('J. Pachelbel', 1141), ('J. B. S. T. Page', 1069)),\n",
       " (('A. Antão', 1132), ('N. Uematsu', 1046)),\n",
       " (('J. Brahms', 1128), ('F. Chopin', 1010)),\n",
       " (('S. M. Kudlo', 1114), ('G. F. Handel', 1007)),\n",
       " (('J. B. S. T. Page', 1069), ('M. Kook', 987)),\n",
       " (('R. Robinson', 1066), ('E. Bingham-Kumpf', 977)),\n",
       " (('F. Nordberg', 1053), ('A. Menken', 904)),\n",
       " (('N. Uematsu', 1051), ('L. Cohen', 896)),\n",
       " (('F. Chopin', 1024), ('C. Miranda', 865)),\n",
       " (('G. F. Handel', 1022), ('R. Djawadi', 864)),\n",
       " (('M. Kook', 987), ('R. Karle', 846)),\n",
       " (('E. Bingham-Kumpf', 977), ('E. Sheeran', 845)),\n",
       " (('E. Sheeran', 944), ('N. Gow', 804)),\n",
       " (('C. H. Gabriel', 931), ('J. S. Skinner', 761)),\n",
       " (('L. Cohen', 912), ('A. Walker', 754)),\n",
       " (('A. Menken', 909), ('Coldplay', 735)),\n",
       " (('R. Djawadi', 879), ('G. Holst', 711)),\n",
       " (('C. Miranda', 865), ('J. Dowland', 709)),\n",
       " (('R. Karle', 846), ('T. Jokilehto', 700)),\n",
       " (('N. Gow', 825), ('F. Mercury', 690)),\n",
       " (('A. Walker', 802), ('H. Purcell', 669)),\n",
       " (('J. S. Skinner', 762), ('A. L. Webber', 660)),\n",
       " (('Coldplay', 735), ('C. Debussy', 648)),\n",
       " (('G. Holst', 734), ('G. F. Händel', 644)),\n",
       " (('J. Dowland', 722), ('J. Masuda', 633)),\n",
       " (('J. Walsh', 718), ('G. Verdi', 633)),\n",
       " (('T. Jokilehto', 700), ('Pentatonix', 633)),\n",
       " (('F. Mercury', 691), ('S. Joplin', 630)),\n",
       " (('H. Purcell', 684), ('Yiruma', 630)),\n",
       " (('C. Debussy', 671), ('T. Ocarolan', 625)),\n",
       " (('A. L. Webber', 666), ('A. Piazzolla', 624)),\n",
       " (('S. Mansfield', 648), ('Queen', 621)),\n",
       " (('S. Joplin', 647), ('Y. Shimomura', 602)),\n",
       " (('J. Masuda', 644), ('E. Grieg', 597)),\n",
       " (('G. F. Händel', 644), ('I. Dragons', 594)),\n",
       " (('G. Verdi', 634), ('Compateur', 593)),\n",
       " (('Pentatonix', 633), ('H. Shore', 590)),\n",
       " (('M. Raagas', 631), ('T. Mckenzie', 574)),\n",
       " (('Yiruma', 630), ('Hanrahan', 568)),\n",
       " (('T. Ocarolan', 625), ('D. De; A. Antão', 563)),\n",
       " (('A. Piazzolla', 624), ('P. I. Tchaikovsky', 560)),\n",
       " (('Queen', 621), ('R. Schumann', 557)),\n",
       " (('Y. Shimomura', 611), ('G. Bizet', 546)),\n",
       " (('J. R. Sweney', 611), ('A. Silvestri', 539)),\n",
       " (('H. Shore', 600), ('N. Aluqdah', 529)),\n",
       " (('E. Grieg', 597), ('Nintendo', 522)),\n",
       " (('I. Dragons', 594), ('J. Rutter', 513)),\n",
       " (('Compateur', 593), ('T. Beatles', 504)),\n",
       " (('P. Dunk', 576), ('M. Giacchino', 502)),\n",
       " (('T. Mckenzie', 574), ('H. Mancini', 502)),\n",
       " (('C. Partington', 570), ('Tchaikovsky', 501)),\n",
       " (('Hanrahan', 568), ('L. Chops', 498)),\n",
       " (('A. Antão; D. De', 563), ('E. Morricone', 497)),\n",
       " (('P. I. Tchaikovsky', 561), ('K. Totaka', 495)),\n",
       " (('R. Schumann', 561), ('Ocarolan', 486)),\n",
       " (('A. Silvestri', 558), ('E. John', 484)),\n",
       " (('G. Bizet', 547), ('G. Gershwin', 481)),\n",
       " (('W. H. Doane', 543), ('J. Lennon', 472)),\n",
       " (('N. Aluqdah', 529), ('B. Joel', 464)),\n",
       " (('M. Jackson', 526), ('F. Liszt', 462)),\n",
       " (('E. John', 525), ('Jcstab', 461)),\n",
       " (('Nintendo', 522), ('S. Wonder', 461)),\n",
       " (('J. Rutter', 517), ('Handel', 459)),\n",
       " (('L. Chops', 512), ('G. P. Telemann', 449)),\n",
       " (('M. Giacchino', 510), ('C. H. Gabriel', 447)),\n",
       " (('T. Beatles', 508), ('E. Elgar', 447)),\n",
       " (('H. Mancini', 504), ('J. Haydn', 447)),\n",
       " (('Tchaikovsky', 501), ('D. Shostakovich', 446)),\n",
       " (('E. Morricone', 501), ('J. Hurwitz', 446)),\n",
       " (('K. Totaka', 497), ('P. A. T. Disco', 444)),\n",
       " (('G. Gershwin', 490), ('M. Jackson', 441)),\n",
       " (('J. Lennon', 488), ('B. Mars', 434)),\n",
       " (('Ocarolan', 486), ('P. John', 431)),\n",
       " (('B. Joel', 479), ('R. Rodgers', 431)),\n",
       " (('S. Wonder', 476), ('Keishi', 428)),\n",
       " (('F. Liszt', 466), ('Zakura', 428)),\n",
       " (('Jcstab', 461), ('M. Sabatella', 425)),\n",
       " (('Handel', 459), ('J. L. P. Mccartney', 424)),\n",
       " (('J. Haydn', 457), ('D. Ellington', 422)),\n",
       " (('R. Lowry', 456), ('B. Eilish', 418)),\n",
       " (('W. J. Kirkpatrick', 456), ('Y. Tiersen', 417)),\n",
       " (('J. Hurwitz', 456), ('M. Gold', 414)),\n",
       " (('E. Elgar', 451), ('F. Mendelssohn', 414))]"
      ]
     },
     "execution_count": 78,
     "metadata": {},
     "output_type": "execute_result"
    }
   ],
   "source": [
    "[x for x in zip(sortedComposersByCount,sortedComposersByCount1)][:100]"
   ]
  },
  {
   "cell_type": "markdown",
   "metadata": {},
   "source": [
    "Top 8 remain the same\n",
    "<=5% increase for top 8\n",
    "\n",
    "[(('J. S. Bach', 9972), ('J. S. Bach', 9498)),\n",
    " (('Y. Kato  加藤 洋平', 5156), ('Y. Kato  加藤 洋平', 5156)),\n",
    " (('W. A. Mozart', 4899), ('W. A. Mozart', 4758)),\n",
    " (('P. F. Carera', 4438), ('P. F. Carera', 4438)),\n",
    " (('T. Fox', 4187), ('T. Fox', 4081)),\n",
    " (('L. V. Beethoven', 4133), ('L. V. Beethoven', 3994)),\n",
    " (('J. Williams', 3205), ('J. Williams', 3082)),\n",
    " (('K. Kondo', 3066), ('K. Kondo', 3033)),\n",
    "\n",
    "\n",
    "A quick glance at the differences in the remainder\n",
    "Francis O'Neill / Frank Nordberg doesn't appear on the right but comes in top 9 on the left, O'Neill is a composer\n",
    "the same for J. Kerr\n",
    "Fynn Titford-Mock,J. Campin less known?\n",
    "The rest of the lists seems to match\n",
    "\n",
    "(('F. Oneill; F. Nordberg', 2675), ('A. Vivaldi', 1403)),\n",
    " (('J. Kerr', 2220), ('J. Hisaishi', 1392)),\n",
    " (('F. Titford-Mock', 1756), ('H. Zimmer', 1240)),\n",
    " (('J. Campin', 1425), ('F. Schubert', 1226)),\n",
    " (('J. Hisaishi', 1425), ('W. Marshall', 1222)),\n",
    " (('A. Vivaldi', 1407), ('J. Pachelbel', 1138)),\n",
    " (('H. Zimmer', 1267), ('A. Antão', 1132)),\n",
    " (('F. Schubert', 1232), ('J. Brahms', 1126)),\n",
    " (('W. Marshall', 1223), ('S. M. Kudlo', 1114)),\n",
    " (('J. Pachelbel', 1141), ('J. B. S. T. Page', 1069)),\n",
    " (('A. Antão', 1132), ('N. Uematsu', 1046)),\n",
    " (('J. Brahms', 1128), ('F. Chopin', 1010)),\n",
    " (('S. M. Kudlo', 1114), ('G. F. Handel', 1007)),\n",
    " (('J. B. S. T. Page', 1069), ('M. Kook', 987)),\n",
    " (('R. Robinson', 1066), ('E. Bingham-Kumpf', 977)),\n",
    " (('F. Nordberg', 1053), ('A. Menken', 904)),\n",
    " (('N. Uematsu', 1051), ('L. Cohen', 896)),\n",
    "\n",
    "Conclusion: If more data is desired to train a larger model on the top 10 composers then using the inclusive dataset may provide <5% increase in training samples."
   ]
  }
 ],
 "metadata": {
  "kernelspec": {
   "display_name": "Python 3.10.8 64-bit",
   "language": "python",
   "name": "python3"
  },
  "language_info": {
   "codemirror_mode": {
    "name": "ipython",
    "version": 3
   },
   "file_extension": ".py",
   "mimetype": "text/x-python",
   "name": "python",
   "nbconvert_exporter": "python",
   "pygments_lexer": "ipython3",
   "version": "3.10.8"
  },
  "orig_nbformat": 4,
  "vscode": {
   "interpreter": {
    "hash": "b0fa6594d8f4cbf19f97940f81e996739fb7646882a419484c72d19e05852a7e"
   }
  }
 },
 "nbformat": 4,
 "nbformat_minor": 2
}
