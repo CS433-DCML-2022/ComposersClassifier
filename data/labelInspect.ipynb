{
 "cells": [
  {
   "cell_type": "markdown",
   "metadata": {},
   "source": [
    "looking at labels sample of composers to determine best formatting/cleaning methods"
   ]
  },
  {
   "cell_type": "code",
   "execution_count": 64,
   "metadata": {},
   "outputs": [
    {
     "name": "stdout",
     "output_type": "stream",
     "text": [
      "[('J. S. Bach', 8774), ('Y. Kato  加藤 洋平', 5156), ('P. F. Carera', 4438), ('W. A. Mozart', 4361), ('L. V. Beethoven', 3872), ('T. Fox', 3832), ('J. Williams', 3064), ('K. Kondo', 2986), ('J. Hisaishi', 1389), ('A. Vivaldi', 1335), ('H. Zimmer', 1233), ('W. Marshall', 1222), ('F. Schubert', 1194), ('A. Antão', 1132), ('S. M. Kudlo', 1103), ('J. Brahms', 1102), ('J. Pachelbel', 1093), ('J. Buchanans', 1068), ('N. Uematsu', 1029), ('M. Kook', 987), ('E. Bingham-Kumpf', 977), ('F. Chopin', 957), ('A. Menken', 905), ('L. Cohen', 876), ('C. Miranda', 865), ('R. Djawadi', 859), ('R. Karle', 846), ('E. Sheeran', 845), ('N. Gow', 801), ('G. F. Handel', 759), ('A. Walker', 752), ('Coldplay', 735), ('J. Dowland', 708), ('T. Jokilehto', 700), ('G. Holst', 696), ('F. Mercury', 685), ('H. Purcell', 655), ('A. L. Webber', 640), ('Pentatonix', 633), ('Yiruma', 630), ('J. Masuda', 629), ('S. Joplin', 625), ('T. Ocarolan', 625), ('Queen', 617), ('A. Piazzolla', 608), ('Y. Shimomura', 601), ('J.S.Bach', 598), ('I. Dragons', 595), ('Compateur', 593), ('G. Verdi', 586)]\n",
      "\n",
      "Number of unique composers found: 218523\n",
      "Composers with more than 1 composition 80126\n"
     ]
    }
   ],
   "source": [
    "import csv\n",
    "composerDict = dict()\n",
    "\n",
    "with open(\"slim_metadata.csv\",'r') as labels:\n",
    "    csvreader = csv.reader(labels)\n",
    "    for line in csvreader:\n",
    "        if composerDict.get(line[1]):\n",
    "            composerDict[line[1]] = composerDict[line[1]] +1\n",
    "        else:\n",
    "            composerDict[line[1]] = 1\n",
    "\n",
    "sortedComposersByCount = sorted(composerDict.items(), key =lambda x : x[1], reverse=True)\n",
    "print(sortedComposersByCount[:50])\n",
    "print(\"\\nNumber of unique composers found: \" + str(len(sortedComposersByCount)))\n",
    "print(\"Composers with more than 1 composition \" + str(len([x for x in filter(lambda x: x[1]>1,sortedComposersByCount)])) )\n",
    "# print(*sortedComposersByCount[:100], sep = \"\\n\")\n",
    "\n"
   ]
  },
  {
   "cell_type": "markdown",
   "metadata": {},
   "source": [
    "noted:\n",
    "multiple instances of the same name\n",
    "- Yohei Kato  加藤 洋平 and Yohei Kato  加藤洋平 (only difference is a space in the japanese name)\n",
    "- 'Johann Sebastian Bach', 'J. S. Bach', 'J.S. Bach', 'J.S.Bach', 'Bach'\n",
    "- 'W. A. Mozart', 'Mozart'\n",
    "- 'Beethoven', 'Ludwig Van Beethoven'\n",
    "\n",
    "Fix: hardcode reduction to single form for each popular composer, general 'initial'ization for all remaining composers\n",
    "\n"
   ]
  },
  {
   "cell_type": "code",
   "execution_count": 51,
   "metadata": {},
   "outputs": [
    {
     "name": "stdout",
     "output_type": "stream",
     "text": [
      "['-. -. Q. -. -; Queen', 'A-30; M. Wackenheim', 'A-38; T. J. E. D. Hameline; P. L. P. D. Seigneur; M. Populaire', 'A-40; J. J. Rioux', 'A-Ah', 'A-Comp', 'A-Dorian', 'A-Dur', 'A-Galope', 'A-Ha']\n",
      "\n",
      "Top words in sample:\n",
      "[('J.', 27316), ('A.', 27168), ('M.', 25490), ('S.', 20234), ('C.', 19316), ('D.', 18012), ('T.', 17859), ('B.', 15013), ('L.', 14472), ('R.', 13828), ('P.', 13278), ('E.', 12796), ('F.', 12788), ('G.', 11996), ('H.', 11127), ('K.', 10591), ('N.', 8718), ('W.', 7284), ('I.', 6706), ('O.', 6679), ('V.', 6204), ('Y.', 3336), ('-.', 3109), ('Z.', 2064), ('U.', 1494), ('X.', 653), ('Q.', 624), ('作.', 482), ('Williams', 440), ('М.', 439), ('А.', 387), ('Smith', 291), ('C', 271), ('작.', 264), ('Fox;', 252), ('С.', 250), ('Kondo;', 240), ('Bach;', 232), ('Jr', 221), ('В.', 215)]\n"
     ]
    }
   ],
   "source": [
    "sortedComposersByName = sorted(composerDict.items(), key =lambda x : x[0])\n",
    "# print(*[ x[0] for x in sortedComposersByName],sep = '\\n')\n",
    "print([ x[0] for x in sortedComposersByName][:10])\n",
    "\n",
    "composerWords = [[x for x in word[0].split(\" \")] for word in sortedComposersByName]\n",
    "composerWords = [item for sublist in composerWords for item in sublist if item]\n",
    "# print(composerWords)\n",
    "wordCountDict = dict()\n",
    "for word in composerWords:\n",
    "    if wordCountDict.get(str(word)):\n",
    "        wordCountDict[word] = wordCountDict[word]+1\n",
    "    else:\n",
    "        wordCountDict[word] = 1\n",
    "print(\"\\nTop words in sample:\")\n",
    "print(sorted(wordCountDict.items(), key =lambda x : x[1],reverse=True)[:40])"
   ]
  }
 ],
 "metadata": {
  "kernelspec": {
   "display_name": "Python 3.10.8 64-bit",
   "language": "python",
   "name": "python3"
  },
  "language_info": {
   "codemirror_mode": {
    "name": "ipython",
    "version": 3
   },
   "file_extension": ".py",
   "mimetype": "text/x-python",
   "name": "python",
   "nbconvert_exporter": "python",
   "pygments_lexer": "ipython3",
   "version": "3.10.8"
  },
  "orig_nbformat": 4,
  "vscode": {
   "interpreter": {
    "hash": "b0fa6594d8f4cbf19f97940f81e996739fb7646882a419484c72d19e05852a7e"
   }
  }
 },
 "nbformat": 4,
 "nbformat_minor": 2
}
