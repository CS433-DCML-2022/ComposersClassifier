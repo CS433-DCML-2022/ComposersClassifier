{
 "cells": [
  {
   "cell_type": "markdown",
   "metadata": {},
   "source": [
    "looking at labels sample of composers to determine best formatting/cleaning methods"
   ]
  },
  {
   "cell_type": "code",
   "execution_count": 6,
   "metadata": {},
   "outputs": [
    {
     "name": "stdout",
     "output_type": "stream",
     "text": [
      "[('unknown', 504), ('Composer', 15), ('Koji Kondo', 3), ('Nazeeh Aluqdah', 3), ('Glimmer Phosphorescence', 3), (' Choral Arrangement by Donald A. Mills                        Words Unknown', 3), ('Carly Neumann', 3), ('Lydia Grace Ryan', 2), ('Claudio Miranda', 2), ('Arr. Raven Simon', 2), ('Compateur', 2), ('Daft Punk', 2), ('Arranged by KHALIL STEWART', 2), ('Max Bilyk', 2), ('E.Elger', 2), ('Miguelangel García Márquez', 2), ('TAB/JCS', 2), ('NEBUER', 2), ('KaBass', 2), ('sweet honey in the rocks', 2), ('Karl Jenkins', 2), ('Lucy Berman', 2), ('Suman Sharma', 2), ('Julian Maraboto', 2), ('Daniele Pasini', 2), ('Johann Pachelbel', 2), ('Music by Adolphe Adam wrote version \"Cantique de Noel\" in 1847; \\nJohn Sullivan Dwight wrote version \"O Holy Night\" in 1855       ', 2), ('mmmmmmmmmmmmmmmmmmmmmmmmmmmmmmmmmmmmmmmmmmmmmmmmmmmmmmmmmmmmmmmmmmmmmmmmmmmmmmmmmmmmmmmmmmmmmmmmmmmmmmmmmmmmmmmmmmmmmmmmmmmmmmmmmmmmmmmmmmmmmmmmmm', 2), ('Armin Caduff', 2), ('Pachelbel', 2), ('Franz Schubert', 2), ('Bettina', 2), ('J.A.D.M.M.M.', 2), ('John Rutter arr. Sam Welch', 2), ('Music: Hans Zimmer\\nArrangement: bunq', 2), ('Francesc Bitlloch', 2), ('John Williams', 2), ('Jacob Watts', 2), ('Arr. by Andric McNabb', 2), ('Manuel M. Ponce', 2), ('Meghan Trainor', 2), ('Freddie Mercury', 2), ('FUN ft. Janelle Monáe', 2), ('Kohn', 2), ('Ashwin Krishnaswamy', 2), ('Malik Ming', 2), ('Robert Ellis', 2), ('Christine M. Harris', 1), ('Hank Friedman', 1), ('Words and Music by Kurt Cobain\\nMusic Score  by Mike Cat', 1), ('Brittany McCrea', 1), ('Giuseppe Maria Ciravolo\\nBrescia 17 marzo 2013', 1), ('por: McM', 1), ('Pieces composed by Ramin Djwadi', 1), ('Composed by: Howard Shore\\nArrangement: bunq', 1), ('J.Moore', 1), ('Joe Zawinul', 1), ('Anonimo', 1), ('J.J.Derwin', 1), ('by Priscilla Stubbs', 1), ('Composer: Nine Inch Nails', 1), (\"Plain White T's\", 1), ('L.E.Kenny', 1), ('Mark Ronson arr. Ethan Hamilton', 1), ('Quentin Doyen', 1), ('Karl Hoschna', 1), ('Hellen Jo ', 1), ('Pasa', 1), ('BEN E. KING\\nSEAN KINGSTON\\nANDRE PITTELLA', 1), ('Giuseppe Maria Ciravolo\\nBrescia 2 dicembre 2012    \\n(revisione 2015)          ', 1), ('Arr. J.H. Arnold', 1), ('Jean-Philippe Rameau', 1), ('Clemke', 1), ('Manning Sherwin/Alan Billingsley', 1), ('Rudi Schäfer', 1), ('Arr: Hillary Doan Sperry', 1), ('Arranged by: Rochelle Sloan', 1), ('John Bishop, ca. 1710', 1), ('Isaiah Sweet', 1), ('Ludovico Einaudi', 1), ('Brandon Liu and Braden Shimp', 1), ('Gabriel Joseph Manning Welsh', 1), ('Foster The People\\nAdarsh Manoj', 1), ('Sorahya Woods', 1), ('Modeste Moussorgsky', 1), ('Jean-Michel Corgeron', 1), ('Metallica', 1), ('David Guetta', 1), ('B. Howard', 1), ('anonym', 1), ('John Lennon', 1), ('Gabriel Faure', 1), ('Arr. Connor Jones', 1), ('Jesse Tyler Castaneda', 1), ('Davan', 1), ('Tristan Wilson', 1), ('N. Kohn', 1), ('Greg Simmons', 1), ('JCS/TAB', 1), ('Nintendo', 1)]\n"
     ]
    }
   ],
   "source": [
    "import csv\n",
    "composerDict = dict()\n",
    "\n",
    "with open(\"labels.csv\",'r') as labels:\n",
    "    csvreader = csv.reader(labels)\n",
    "    for line in csvreader:\n",
    "        if composerDict.get(line[1]):\n",
    "            composerDict[line[1]] = composerDict[line[1]] +1\n",
    "        else:\n",
    "            composerDict[line[1]] = 1\n",
    "\n",
    "sortedComposersByCount = sorted(composerDict.items(), key =lambda x : x[1], reverse=True)\n",
    "print(sortedComposersByCount[:100])\n",
    "# print(*sortedComposersByCount[:100], sep = \"\\n\")"
   ]
  },
  {
   "cell_type": "markdown",
   "metadata": {},
   "source": [
    "noted:\n",
    "- large gaps of space\n",
    "- arranged prefixes = [\"Arranged by \", \"Arranged by:\",\"Arr. by\", \"Arr.\", \"Arr:\" ,\"Transcription: \", \"trans.\" ]\n",
    "- junk = [\"composer\", ]\n",
    "- junk prefix [\"by\", \"words and Music by\", \"Pieces composed by \" ] \n",
    "- junk suffix ['ca. 1710','17 marzo 2013', \"(1663 - 1725)\" ] - dates, bracketed dates\n",
    "- collaboration suffixes [\"ft,\"]\n",
    "- junk/collab infixes [\"\\n\",\"/\"]\n",
    "- long junk strings - "
   ]
  },
  {
   "cell_type": "code",
   "execution_count": 8,
   "metadata": {},
   "outputs": [
    {
     "name": "stdout",
     "output_type": "stream",
     "text": [
      "['\\n', '\\n\\nThani Abuhamad (1995-Present)', '\\nAndrew Lloyd Webber', '\\nTwisted Measure\\nArr. Kyler McGehee', ' (Matt and Andrew)', ' Aditional Arrg. by Matheus Siagian', ' Choral Arrangement by Donald A. Mills                        Words Unknown', '3', '; Shakira; Arr..Isaac P. Nurse', '; Zulu Song Afrika\\nsatz:Doreen Rao', 'A. Borodin', 'A. L. Thornburg', 'A.Corelli (1653-1713)', 'AVICII', 'Abby Orton', 'Abir Sharma', 'Adriana', 'Alan Menken', 'Alec Targett', 'Aleksei Turenkov', 'Alex Jasper', 'Alexander Reinagle, 1799-1877', 'Alexandre Dumont', 'Alfred H. Ackley', 'Allie Payne', 'Andrea Falconieri (1585/86 - 1656)', 'Andrew Cedar, Justin Franks, Charlie Puth, Cameron Thomaz', 'Andro Alexandru Sebastian', 'Ann Ronell', 'Anon', 'Anonimo', 'Anthony Windau', 'Ar. Grant L.', 'Armin Caduff', 'Arr Jennifer Ritchie', 'Arr by. Brodie Pfeiffer', 'Arr. By. Braden Terry', 'Arr. Connor Jones', 'Arr. Daniel Choi', 'Arr. J.H. Arnold', 'Arr. Melissa Tracey', 'Arr. Nicolas Kupinszky &\\n Andrew Nguyen; Yiruma', 'Arr. Raven Simon', 'Arr. Rob Howe; John Loeffler', 'Arr. Shane Sparks', 'Arr. Victoria Donaldson; Al Rinker', 'Arr. Weliton Carvalho', 'Arr. by Andric McNabb', 'Arr. by Andric mcANbb', 'Arr. by Brendon Yam', 'Arr. by Kdielol', 'Arr: Dale Grotenhuis', 'Arr: Hillary Doan Sperry', 'Arranged : Eggi Ajisukma', 'Arranged By Victor Godina', 'Arranged by : Eggi Ajisukma', 'Arranged by Alexa Letourneau', 'Arranged by ArbitersMusic\\ntranscription by Brianna Small', 'Arranged by Erolon', 'Arranged by KHALIL STEWART', 'Arranged by Michael Latham', 'Arranged by Nick Frg; Toshiro Masuda', 'Arranged by Tehishter\\nTrans. by Bombitmanbomb', 'Arranged by Tehishter\\nTranscribed by bombitmanbomb', 'Arranged by human-potato hybrid', 'Arranged by: Rochelle Sloan', 'Arranged:  R.C. Irvine', 'Arvallo', 'Ashwin Krishnaswamy', 'Asia Kaiser', 'B. Britten', 'B. Howard', 'BEN E. KING\\nSEAN KINGSTON\\nANDRE PITTELLA', 'BRUCE SPRINGSTEEN', 'Bart Howard', 'Bastoners de Caldes de Montbui', 'Bear McCreary', 'Bendik Goldstein', 'Bethofen', 'Bettina', 'Bill Graham', 'Blankenship arr Johnson', 'Brandon Liu and Braden Shimp', 'Brittany McCrea', 'Butch Cornell', 'C. Gardel', 'CARL ORFF\\n', 'CHARLES GOUNOD', 'Cameron Papandria', 'Carcassi', 'Carl-Bertil Agnestig', 'Carlos Rosas', 'Carly Neumann', 'Carson Perkins', 'Cecilia', 'Cecilia and Olivia', 'Charles Hubert Hastings Parry, 1894', 'Charles Mingus', 'Charles Steven', 'Chrif Rice-Rake', 'Chris Ryan', 'Christine M. Harris', 'Christopher Berry', 'Clarise Towson', 'Claude-Michel Schönberg\\nYuki Kuwayama    ', 'Claudio Miranda', 'Clemke', 'Cody J. Olszewski', 'Compateur', 'Composed by Jun Ichikawa\\nRetranscribed by Stalzak', 'Composed by: Howard Shore\\nArrangement: bunq', 'Composer', 'Composer: Nine Inch Nails', 'Crosby Linn LaGrone', 'Cèline Dion', 'D. Duncan', 'D. Montero', 'D.F.', 'DGS', 'Daft Punk', 'Dana Kuehn and Brooke Cummins and Oksana', 'Daniel Baux', 'Daniel Ingram', 'Daniel Meyers', 'Daniele Pasini', 'Danny Jacob\\nArr. Nathaniel Macatangay', 'Davan', 'David A. DeBroux', 'David Guetta', 'David J. Godbold', 'David Martynuik', 'Dawn McCollum', 'Dimrain47', 'Dixie Chicks', 'Dominique Pons', 'Duc. de Cedronio', 'E.Elger', 'Elia Nicholas', 'Eric Bingham-Kumpf', 'Erin Nemivant', 'Erin Panjer', 'Evert Taube, 1933', 'F-101; Texte et musique : Jean- Marie Vincent ', 'F. Wohlfahrt ', 'F.Couperin', 'FUN ft. Janelle Monáe', 'Faraji Kendagor', 'Felix Mendelssohn', 'Fernando Lopes Graça', 'Foster The People\\nAdarsh Manoj', 'Francesc Bitlloch', 'Franz Schubert', 'François Reincke', 'Freddie Mercury', 'Félix Mendelson', 'G.F.Handel', 'G.Sauvlet', 'Gabriel Faure', 'Gabriel Joseph Manning Welsh', 'Geoge Gershwin', 'Georg Philipp Telemann\\n(1681 - 1767)', 'Georg Philipp Telemann (1681 - 1767)', 'George & Ira Gershwin', 'George Gershwin', 'Gerard van Amstel', 'Gershwin', 'Giacomo Puccini', 'Giuseppe Maria Ciravolo\\nBrescia 17 marzo 2013', 'Giuseppe Maria Ciravolo\\nBrescia 2 dicembre 2012    \\n(revisione 2015)          ', 'Glimmer Phosphorescence', 'Gorillaz', 'Greg Simmons', 'Gregorio Edward Alvarez', 'Groenleer and Hamilton', 'Guillermo Gomez U.', 'Guillermo Paredes Cruz', 'Guy Lafarge, 1948', 'H. Joseph Mathusek', 'Hank Friedman', 'Hanna Kim', 'Hans Zimmer (arr. by Pranav Singh)', 'Hanson-Lee Harjono', 'Harrison Jennings', 'Hayden Elshaw', 'Hellen Jo ', 'Hermeto Pascoal', 'Hilarión Eslava', 'Hose270', 'ISIAKPONA CHIWENDU UCHECHUKWU', 'Isaac Spitler; Arranged by Christina Kim', 'Isaiah Sweet', 'J . M\\n\\n\\n\\n', 'J. Labbe', 'J.A.D.M.M.M.', 'J.F.Burgmüller', 'J.J.Derwin', 'J.Moore', 'JAVIER BARANDIARAN URIARTE', 'JCS/TAB', 'Jacob Watts', 'Jacob de Haan ', 'Jaime Martinez ', 'James Balazs', 'James Powers', 'James Thomas 27 April 2013', 'Jared Keffer', 'Jason Hwang', 'Jay Althouse', 'Jean-Michel Corgeron', 'Jean-Philippe Rameau', 'Jeremy Evans', 'Jess, Gracie and Natasha', 'Jesse Tyler Castaneda', 'Joaquim Manuel da Silva', 'Joe Hisaishi', 'Joe Zawinul', 'Johann Pachelbel', 'Johann Pachelbel\\narr. Christian Sutton', 'Johann Sebastian BACH', 'John Banister (1663 - 1725)', 'John Bishop, ca. 1710', 'John Lennon', 'John Phillip SOUSA', 'John Powell', 'John Rutter arr. Sam Welch', 'John T. Graves', 'John Williams', 'Jonathan Hill', 'Josh Fulford', 'Josh Tilson', 'Juan Brito', 'Julian Felipe', 'Julian Maraboto', 'Julien D. Ward', 'Julián Prado', 'Jun Maeda', 'KARL JENKINS', 'KYA', 'KaBass', 'Kailas Rajan', 'Karl Hoschna', 'Karl Jenkins', 'Kawaitachi-chan', 'Kaylee Payne', 'Kayleigh lane', 'Keith Getty', 'Kenichi Nishimaki, Shiho Fujii, Atsuko Asashi, Ryo Nagamatsu, Yasuaki Iwata, Soyo Oka, Taro Bando, Asuka Hayazaki, Takeshi Hama, Mahito Yokota, Koji Kondo, Shinobi Tanaka, Ichiro Shimakura, Asuka Ota, Hajime Wakai, Kazumi Totaka, Toru Minegishi', 'Kiko Ruiz\\n2015', 'King Crimson', 'Kings of Leon ', 'Kohn', 'Koji Kondo', 'Koji Kondo\\nArr. Emma Flanagan', 'Kovács  Botond', 'Krys Warfield', 'Kyle Jelen', 'L. Franklin', 'L.E.Kenny', 'Lady Gaga', 'Lauren Daly', 'Lauridsen', 'Les Feuilles mortes', 'Linda Stassen', 'Livan Nalan Venilok', 'Lobe den Herren 1665; Harm. Bennett 1864', 'Louis Vierne', 'Lucy Berman', 'Ludovico Einaudi', 'Lydia Grace Ryan', 'Lykke Li ', 'MWBöö', 'Mackenzie Maxwell', 'Madame Brillon', 'Malachi Salyers', 'Malik Ming', 'Manning Sherwin/Alan Billingsley', 'Manuel M. Ponce', 'Marc Sabatella', 'Maria Linneman', 'Mark Ronson arr. Ethan Hamilton', 'Martin', 'Matthew Foreman', 'Matthew Maxam', 'Max Bilyk', 'Maxnono', 'Megan McKeith', 'Meghan Burke', 'Meghan Trainor', 'Mel. = Lob Gott getrost mit Singen, EG 243', 'Melissa Morris', 'Metallica', 'Mi Trầm', 'Michael Richardson', 'Michel SARDOU', 'Michelle Nguyen', 'Miguel Rattana', 'Miguelangel García Márquez', 'Mikado', 'Mike Morasky', 'Modeste Moussorgsky', 'Modus Vetus', 'Mogens J.Nissen', 'Moritz Chrupala', 'Mozart', 'Mozart/Sussmayer  arr. Dempsey', 'Mr. Trey Johnson', 'Music by Adolphe Adam wrote version \"Cantique de Noel\" in 1847; \\nJohn Sullivan Dwight wrote version \"O Holy Night\" in 1855       ', 'Music: Hans Zimmer\\nArrangement: bunq', 'Musik:  Purple Schulz, Josef Piek, Clemens Bittlinger', 'Musique : François Noëll', 'Musique: Franz Schubert (1797-1828)', 'MÁRIO MASCARENHAS', 'N. Kohn', 'NEBUER', 'Nazeeh Aluqdah', 'Neil Davidge', 'Nikolai Kedrov ', 'Nintendo', 'Nobuo Uematsu\\nTransbiber - Erlo Kun', 'Odin Mcdermott', 'Original arrangement by Nicholas Smith                                   Edited for Trumpet and Horn by someone else\\n', 'Oskaren', 'P.P.Bliss', 'P.TCHAIKOVSKY', 'Pachelbel', 'Pagano, Maresca, Soricillo', 'Pasa', 'Patrick Ireland', 'Paul McCartney Arr. Bill Swick', 'Philip Glowa', 'Phill Collins', 'Phillip Phillips\\nJenna Smith', 'Pieces composed by Ramin Djwadi', 'Pierre-Adrien LANGROGNET', 'Pink Floyd', 'Pixinguinha', \"Plain White T's\", 'Queen arr. Caleb Coder', 'Quentin Doyen', 'Rachel McClanahan', 'Rammstein', 'Richard Greig II', 'Rihanna', 'Riteous Brothers', 'River Harris', 'Rob Goorhuis ', 'Robert Ellis', 'Robert Lebel', 'Roger Hoffman; Composed By Roger Hoffman', 'Ronald Karle', 'Rudi Schäfer', 'Ruwan Jay', 'Ryan Fernandes', 'S M. Kudlo', 'Sam Lipman', 'Sam the Great and Powerful', 'Sara Jean Lane', 'Schubert/arrgt J. Gauffriau', 'Scott Joplin ', 'Seal', 'Sean Harrington', 'Seth Hughes', 'Shostglass', 'Sir Arthur Sullivan', 'Snow Patrol', 'Sorahya Woods', 'Stephanie Hanson', 'Steven M. Kudlo', 'Steven Menckowski', 'Suman Sharma', 'TAB/JCS', 'TOKYO SKA PARADISE ORCHESTRA', 'Taylor Swift', 'The Baba of the Babas', 'Thomas Bergersen', 'Thomas Duell', 'Tiana Menezes', 'Tobias Gad and Lindy Robbins', 'Ton Lans', 'Tony McCahill', 'Trad. abrahamic', 'Traditional', 'Transcribed by Caio Cezar Fernandes', 'Transcripción: Omar Carrillo', 'Transcription: Samuel D.', 'Transcription: Samuel Dawant', 'Tristan Wilson', 'U Þhrmapoljayn', 'Uda Goode', 'Victor', 'Will Fritz', 'Wladimir Rébikow', 'Words and Music by Kurt Cobain\\nMusic Score  by Mike Cat', 'Words and Music by Trent Reznor\\nArr. by Boone Shangle', 'Xavier Mora', 'YOKOYAMA Shin-Itchiro', 'Yasuharu Takanashi', 'Yiruma', 'ZUN', 'ZUN ', 'ZUN (Arr by. Williatico & Hartmann)', 'Zachary McKinon', 'Zech Lumpkin', 'aaron', 'abargstadt', 'alessio garone 2001/10000', 'anonym', 'aronzhin', 'arr by Yusuke Nakashima', 'arr. Ben Underwood', 'arr. Eileen Snyder', 'arr. Ginger from Ginger and Idiut', 'arr. Holcomb', 'arr. Jameson Nizo', 'bassäää', 'by E. Elgar Arr. H.Patton', 'by Nina Simone\\narr. Romain P.', 'by Priscilla Stubbs', 'for Piano\\narranged by: Rolf Boomgaarden', 'mib', 'mmmmmmmmmmmmmmmmmmmmmmmmmmmmmmmmmmmmmmmmmmmmmmmmmmmmmmmmmmmmmmmmmmmmmmmmmmmmmmmmmmmmmmmmmmmmmmmmmmmmmmmmmmmmmmmmmmmmmmmmmmmmmmmmmmmmmmmmmmmmmmmmmm', 'nintendo', 'por: McM', 'sullivan version', 'sweet honey in the rocks', 'tango de Marià Homs', 'trans. David Song', 'unknown', 'unknown ', 'viola king', 'ΒΑΜΒΑΚΑΡΗΣ', 'Барков А.А.', 'Дарин Сысоев', '三木たかし', '田中公平']\n"
     ]
    }
   ],
   "source": [
    "sortedComposersByName = sorted(composerDict.items(), key =lambda x : x[0])\n",
    "# print(*[ x[0] for x in sortedComposersByName],sep = '\\n')\n",
    "print([ x[0] for x in sortedComposersByName])"
   ]
  }
 ],
 "metadata": {
  "kernelspec": {
   "display_name": "Python 3.10.8 64-bit",
   "language": "python",
   "name": "python3"
  },
  "language_info": {
   "codemirror_mode": {
    "name": "ipython",
    "version": 3
   },
   "file_extension": ".py",
   "mimetype": "text/x-python",
   "name": "python",
   "nbconvert_exporter": "python",
   "pygments_lexer": "ipython3",
   "version": "3.10.8"
  },
  "orig_nbformat": 4,
  "vscode": {
   "interpreter": {
    "hash": "b0fa6594d8f4cbf19f97940f81e996739fb7646882a419484c72d19e05852a7e"
   }
  }
 },
 "nbformat": 4,
 "nbformat_minor": 2
}
