{
 "cells": [
  {
   "cell_type": "markdown",
   "metadata": {},
   "source": [
    "looking at labels sample of composers to determine best formatting/cleaning methods"
   ]
  },
  {
   "cell_type": "code",
   "execution_count": 11,
   "metadata": {},
   "outputs": [
    {
     "name": "stdout",
     "output_type": "stream",
     "text": [
      "[('unknown', 504), ('Composer', 15), ('Koji Kondo', 3), ('Nazeeh Aluqdah', 3), ('Glimmer Phosphorescence', 3), (' Choral Arrangement by Donald A. Mills                        Words Unknown', 3), ('Carly Neumann', 3), ('Lydia Grace Ryan', 2), ('Claudio Miranda', 2), ('Arr. Raven Simon', 2), ('Compateur', 2), ('Daft Punk', 2), ('Arranged by KHALIL STEWART', 2), ('Max Bilyk', 2), ('E.Elger', 2), ('Miguelangel García Márquez', 2), ('TAB/JCS', 2), ('NEBUER', 2), ('KaBass', 2), ('sweet honey in the rocks', 2), ('Karl Jenkins', 2), ('Lucy Berman', 2), ('Suman Sharma', 2), ('Julian Maraboto', 2), ('Daniele Pasini', 2), ('Johann Pachelbel', 2), ('Music by Adolphe Adam wrote version \"Cantique de Noel\" in 1847; \\nJohn Sullivan Dwight wrote version \"O Holy Night\" in 1855       ', 2), ('mmmmmmmmmmmmmmmmmmmmmmmmmmmmmmmmmmmmmmmmmmmmmmmmmmmmmmmmmmmmmmmmmmmmmmmmmmmmmmmmmmmmmmmmmmmmmmmmmmmmmmmmmmmmmmmmmmmmmmmmmmmmmmmmmmmmmmmmmmmmmmmmmm', 2), ('Armin Caduff', 2), ('Pachelbel', 2), ('Franz Schubert', 2), ('Bettina', 2), ('J.A.D.M.M.M.', 2), ('John Rutter arr. Sam Welch', 2), ('Music: Hans Zimmer\\nArrangement: bunq', 2), ('Francesc Bitlloch', 2), ('John Williams', 2), ('Jacob Watts', 2), ('Arr. by Andric McNabb', 2), ('Manuel M. Ponce', 2), ('Meghan Trainor', 2), ('Freddie Mercury', 2), ('FUN ft. Janelle Monáe', 2), ('Kohn', 2), ('Ashwin Krishnaswamy', 2), ('Malik Ming', 2), ('Robert Ellis', 2), ('Christine M. Harris', 1), ('Hank Friedman', 1), ('Words and Music by Kurt Cobain\\nMusic Score  by Mike Cat', 1)]\n",
      "\n",
      "Number of unique composers found: 435\n",
      "Composers with more than 1 composition 47\n"
     ]
    }
   ],
   "source": [
    "import csv\n",
    "composerDict = dict()\n",
    "\n",
    "with open(\"labels.csv\",'r') as labels:\n",
    "    csvreader = csv.reader(labels)\n",
    "    for line in csvreader:\n",
    "        if composerDict.get(line[1]):\n",
    "            composerDict[line[1]] = composerDict[line[1]] +1\n",
    "        else:\n",
    "            composerDict[line[1]] = 1\n",
    "\n",
    "sortedComposersByCount = sorted(composerDict.items(), key =lambda x : x[1], reverse=True)\n",
    "print(sortedComposersByCount[:50])\n",
    "print(\"\\nNumber of unique composers found: \" + str(len(sortedComposersByCount)))\n",
    "print(\"Composers with more than 1 composition \" + str(len([x for x in filter(lambda x: x[1]>1,sortedComposersByCount)])) )\n",
    "# print(*sortedComposersByCount[:100], sep = \"\\n\")"
   ]
  },
  {
   "cell_type": "markdown",
   "metadata": {},
   "source": [
    "noted:\n",
    "- large gaps of space\n",
    "- arranged prefixes = [\"Arranged by \", \"Arranged by:\",\"Arr. by\", \"Arr.\", \"Arr:\" ,\"Transcription: \", \"trans.\" ]\n",
    "- junk = [\"composer\", ]\n",
    "- junk prefix [\"by\", \"words and Music by\", \"Pieces composed by \" ] \n",
    "- junk suffix ['ca. 1710','17 marzo 2013', \"(1663 - 1725)\" ] - dates, bracketed dates\n",
    "- collaboration suffixes [\"ft,\"]\n",
    "- junk/collab infixes [\"\\n\",\"/\"]\n",
    "- long junk strings - \n",
    "\n",
    "sometimes arr. is placed after a possible composer - maybe shouldn't be an immediate disqualifier e.g. 'John Rutter arr. Sam Welch. Only if arr in first substring?"
   ]
  },
  {
   "cell_type": "code",
   "execution_count": 28,
   "metadata": {},
   "outputs": [
    {
     "name": "stdout",
     "output_type": "stream",
     "text": [
      "['\\n', '\\n\\nThani Abuhamad (1995-Present)', '\\nAndrew Lloyd Webber', '\\nTwisted Measure\\nArr. Kyler McGehee', ' (Matt and Andrew)', ' Aditional Arrg. by Matheus Siagian', ' Choral Arrangement by Donald A. Mills                        Words Unknown', '3', '; Shakira; Arr..Isaac P. Nurse', '; Zulu Song Afrika\\nsatz:Doreen Rao']\n",
      "Top words in sample:\n",
      "[('by', 36), ('Arr.', 17), ('Arranged', 14), ('and', 13), ('John', 9), ('arr.', 9), ('de', 6), ('-', 5), ('David', 5), ('A.', 4), ('Daniel', 4), (':', 4), ('M.', 4), ('J.', 4), ('D.', 4), ('Gershwin', 4), ('Words', 3), ('L.', 3), ('by:', 3), ('Howard', 3), ('Charles', 3), ('Steven', 3), ('Ryan', 3), ('Composed', 3), ('Maria', 3), ('James', 3), ('Thomas', 3), ('Johann', 3), ('Sam', 3), ('Koji', 3), ('Music', 3), ('version', 3), ('in', 3), ('the', 3), ('ZUN', 3), (';', 2), ('P.', 2), ('Song', 2), ('Sharma', 2), ('H.', 2)]\n"
     ]
    }
   ],
   "source": [
    "sortedComposersByName = sorted(composerDict.items(), key =lambda x : x[0])\n",
    "# print(*[ x[0] for x in sortedComposersByName],sep = '\\n')\n",
    "print([ x[0] for x in sortedComposersByName][:10])\n",
    "\n",
    "composerWords = [[x for x in word[0].split(\" \")] for word in sortedComposersByName]\n",
    "composerWords = [item for sublist in composerWords for item in sublist if item]\n",
    "# print(composerWords)\n",
    "wordCountDict = dict()\n",
    "for word in composerWords:\n",
    "    if wordCountDict.get(str(word)):\n",
    "        wordCountDict[word] = wordCountDict[word]+1\n",
    "    else:\n",
    "        wordCountDict[word] = 1\n",
    "print(\"\\nTop words in sample:\")\n",
    "print(sorted(wordCountDict.items(), key =lambda x : x[1],reverse=True)[:40])"
   ]
  },
  {
   "cell_type": "markdown",
   "metadata": {},
   "source": [
    "Top words give us an idea of what to look for"
   ]
  },
  {
   "cell_type": "markdown",
   "metadata": {},
   "source": [
    "Now to test after cleaning!"
   ]
  },
  {
   "cell_type": "code",
   "execution_count": 31,
   "metadata": {},
   "outputs": [
    {
     "name": "stdout",
     "output_type": "stream",
     "text": [
      "[('unknown', 585), ('Koji Kondo', 4), ('Nazeeh Aluqdah', 3), ('Karl Jenkins', 3), ('Johann Pachelbel', 3), ('Franz Schubert', 3), ('Glimmer Phosphorescence', 3), ('Carly Neumann', 3), ('Giuseppe Maria Ciravolo', 2), ('Lydia Grace Ryan', 2), ('Claudio Miranda', 2), ('Compateur', 2), ('Daft Punk', 2), ('Max Bilyk', 2), ('E.Elger', 2), ('Miguelangel García Márquez', 2), ('Tabjcs', 2), ('Nebuer', 2), ('Kabass', 2), ('Sweet Honey The Rocks', 2), ('Lucy Berman', 2), ('Nintendo', 2), ('Suman Sharma', 2), ('Julian Maraboto', 2), ('Daniele Pasini', 2), ('Armin Caduff', 2), ('Pachelbel', 2), ('Bettina', 2), ('J.A.D.M.M.M.', 2), ('John Rutter Sam Welch', 2), ('Hans Zimmer', 2), ('Francesc Bitlloch', 2), ('John Williams', 2), ('Jacob Watts', 2), ('Manuel M. Ponce', 2), ('Meghan Trainor', 2), ('Freddie Mercury', 2), ('Fun Janelle Monáe', 2), ('Kohn', 2), ('Ashwin Krishnaswamy', 2), ('Malik Ming', 2), ('Robert Ellis', 2), ('Christine M. Harris', 1), ('Hank Friedman', 1), ('Kurt Cobain', 1), ('Brittany Mccrea', 1), ('Por Mcm', 1), ('Ramin Djwadi', 1), ('Howard Shore', 1), ('J.Moore', 1)]\n",
      "\n",
      "Number of unique composers found: 366\n",
      "Composers with more than 1 composition 42\n"
     ]
    }
   ],
   "source": [
    "composerDict = dict()\n",
    "\n",
    "with open(\"labels_v2.csv\",'r') as labels:\n",
    "    csvreader = csv.reader(labels)\n",
    "    for line in csvreader:\n",
    "        if composerDict.get(line[1]):\n",
    "            composerDict[line[1]] = composerDict[line[1]] +1\n",
    "        else:\n",
    "            composerDict[line[1]] = 1\n",
    "\n",
    "sortedComposersByCount = sorted(composerDict.items(), key =lambda x : x[1], reverse=True)\n",
    "print(sortedComposersByCount[:50])\n",
    "print(\"\\nNumber of unique composers found: \" + str(len(sortedComposersByCount)))\n",
    "print(\"Composers with more than 1 composition \" + str(len([x for x in filter(lambda x: x[1]>1,sortedComposersByCount)])) )\n",
    "# print(*sortedComposersByCount[:100], sep = \"\\n\")"
   ]
  },
  {
   "cell_type": "markdown",
   "metadata": {},
   "source": [
    "Number of unique composers found decreased from 435 to 366, likely due to removal of arr and 'composer'\n",
    "Composers with more than 1 composition 47 reduced to 42, also likely due to the above \n",
    "To check "
   ]
  },
  {
   "cell_type": "code",
   "execution_count": 30,
   "metadata": {},
   "outputs": [
    {
     "name": "stdout",
     "output_type": "stream",
     "text": [
      "[' Shakira Arr..Isaac P. Nurse', ' Zulu Song Afrika', 'A. Borodin', 'A. L. Thornburg', 'A.Corelli', 'Aaron', 'Abargstadt', 'Abby Orton', 'Abir Sharma', 'Aditional Arrg. Matheus Siagian']\n",
      "\n",
      "Top words in sample:\n",
      "[('John', 8), ('De', 6), ('David', 5), ('The', 5), ('Charles', 4), ('M.', 4), ('Gershwin', 4), ('A.', 3), ('L.', 3), ('-', 3), ('Andrew', 3), ('Howard', 3), ('King', 3), ('Steven', 3), ('Ryan', 3), ('J.', 3), ('D.', 3), ('Daniel', 3), ('Jacob', 3), ('Musique', 3), ('James', 3), ('Thomas', 3), ('Sam', 3), ('Song', 2), ('Sharma', 2), ('H.', 2), ('Payne', 2), ('Sebastian', 2), ('B.', 2), ('E.', 2), ('Bill', 2), ('Johnson', 2), ('Cecilia', 2), ('Harris', 2), ('Erin', 2), ('Franz', 2), ('Schubert', 2), ('François', 2), ('Gabriel', 2), ('Joseph', 2)]\n"
     ]
    }
   ],
   "source": [
    "sortedComposersByName = sorted(composerDict.items(), key =lambda x : x[0])\n",
    "# print(*[ x[0] for x in sortedComposersByName],sep = '\\n')\n",
    "print([ x[0] for x in sortedComposersByName][:10])\n",
    "\n",
    "composerWords = [[x for x in word[0].split(\" \")] for word in sortedComposersByName]\n",
    "composerWords = [item for sublist in composerWords for item in sublist if item]\n",
    "# print(composerWords)\n",
    "wordCountDict = dict()\n",
    "for word in composerWords:\n",
    "    if wordCountDict.get(str(word)):\n",
    "        wordCountDict[word] = wordCountDict[word]+1\n",
    "    else:\n",
    "        wordCountDict[word] = 1\n",
    "print(\"\\nTop words in sample:\")\n",
    "print(sorted(wordCountDict.items(), key =lambda x : x[1],reverse=True)[:40])"
   ]
  },
  {
   "cell_type": "markdown",
   "metadata": {},
   "source": [
    "No junk evident post clean"
   ]
  }
 ],
 "metadata": {
  "kernelspec": {
   "display_name": "Python 3.10.8 64-bit",
   "language": "python",
   "name": "python3"
  },
  "language_info": {
   "codemirror_mode": {
    "name": "ipython",
    "version": 3
   },
   "file_extension": ".py",
   "mimetype": "text/x-python",
   "name": "python",
   "nbconvert_exporter": "python",
   "pygments_lexer": "ipython3",
   "version": "3.10.8"
  },
  "orig_nbformat": 4,
  "vscode": {
   "interpreter": {
    "hash": "b0fa6594d8f4cbf19f97940f81e996739fb7646882a419484c72d19e05852a7e"
   }
  }
 },
 "nbformat": 4,
 "nbformat_minor": 2
}
