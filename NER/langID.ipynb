{
 "cells": [
  {
   "cell_type": "markdown",
   "metadata": {},
   "source": [
    "Check which languages are the most common in the list of composers\n",
    "Use this to help determine which/how many language models should be included in NER pipeline\n",
    "Assumes presence of languages of composers from wiki correlates with that of the composers on musescore"
   ]
  },
  {
   "cell_type": "code",
   "execution_count": 4,
   "metadata": {},
   "outputs": [
    {
     "data": {
      "text/plain": [
       "[('es', 7658),\n",
       " ('de', 25749),\n",
       " ('ja', 14614),\n",
       " ('ko', 17533),\n",
       " ('bg', 9308),\n",
       " ('zh-cn', 7049),\n",
       " ('et', 7348),\n",
       " ('fa', 16861),\n",
       " ('fr', 5949),\n",
       " ('ar', 25186)]"
      ]
     },
     "execution_count": 4,
     "metadata": {},
     "output_type": "execute_result"
    }
   ],
   "source": [
    "from langdetect import detect\n",
    "\n",
    "# langDict = dict()\n",
    "# with open(\"composer_labels.txt\", 'r') as comps:\n",
    "#     for line in comps.readlines():\n",
    "#         composer = line.split(',')[1]\n",
    "#         print(composer)\n",
    "#         try: lang = detect(composer)\n",
    "#         except: continue\n",
    "        \n",
    "#         if langDict.get(lang): langDict[lang] = langDict[lang] +1 \n",
    "#         else: langDict[lang] = 1\n",
    "\n",
    "langdict = {'es': 7658, 'de': 25749, 'ja': 14614, 'ko': 17533, 'bg': 9308, 'zh-cn': 7049, 'et': 7348, 'fa': 16861, 'fr': 5949, 'ar': 25186, 'tr': 2670, 'uk': 7078, 'bn': 2711, 'el': 3300, 'sv': 3452, 'cy': 2105, 'he': 7358, 'en': 16910, 'lv': 766, 'mk': 3386, 'ml': 679, 'mr': 386, 'ur': 5316, 'pt': 4368, 'ta': 564, 'th': 1023, 'no': 2239, 'it': 9818, 'ro': 1911, 'sl': 5458, 'ne': 258, 'ru': 14049, 'zh-tw': 944, 'tl': 3044, 'af': 2416, 'da': 2204, 'sk': 2148, 'hi': 431, 'kn': 261, 'id': 5432, 'hu': 3094, 'ca': 4237, 'gu': 134, 'fi': 2476, 'lt': 2093, 'pl': 3676, 'cs': 1850, 'pa': 360, 'nl': 3638, 'hr': 1879, 'sw': 4770, 'te': 381, 'vi': 392, 'so': 1640, 'sq': 561}\n",
    "list(langdict.items())[:10]\n",
    "\n"
   ]
  },
  {
   "cell_type": "markdown",
   "metadata": {},
   "source": [
    "There is uneven distribution of composer languages, even though many are written in multiple languages."
   ]
  },
  {
   "cell_type": "code",
   "execution_count": 6,
   "metadata": {},
   "outputs": [
    {
     "name": "stdout",
     "output_type": "stream",
     "text": [
      "[(('de', 25749), 0, 0.09159401111976694), (('ar', 25186), 1, 0.1811853258916979), (('ko', 17533), 2, 0.24355348764411056), (('en', 16910), 3, 0.3037055218215644), (('fa', 16861), 4, 0.3636832538302012), (('ja', 14614), 5, 0.4156679863830877), (('ru', 14049), 6, 0.46564290821390075), (('it', 9818), 7, 0.5005673713454348), (('bg', 9308), 8, 0.5336776690464249), (('es', 7658), 9, 0.5609186080015367), (('he', 7358), 10, 0.5870923908210344), (('et', 7348), 11, 0.6132306017693449), (('uk', 7078), 12, 0.6384083721956026), (('zh-cn', 7049), 13, 0.6634829841954176), (('fr', 5949), 14, 0.6846446903646473), (('sl', 5458), 15, 0.7040598176585883), (('id', 5432), 16, 0.7233824580874427), (('ur', 5316), 17, 0.7422924648105265), (('sw', 4770), 18, 0.7592602473667922), (('pt', 4368), 19, 0.7747980407013351)]\n"
     ]
    }
   ],
   "source": [
    "langList = sorted(langdict.items(), key = lambda x: x[1], reverse=True)\n",
    "sumTotal = sum([x[1] for x in langList])\n",
    "\n",
    "#sorted by increasing count of presence, we take cumulative sum of all language instances to see most popular\n",
    "cumulativeSum = [(val,ind,sum([x[1] for x in langList[:ind+1]])/sumTotal) for ind,val in enumerate(langList)]\n",
    "print(cumulativeSum[:20])"
   ]
  },
  {
   "cell_type": "markdown",
   "metadata": {},
   "source": [
    "With 8 languages we can cover around 50% of composer names.\n",
    "\n",
    "German, Arabic, korean, en, Persian, Japanese, russian, italian\n",
    "\n",
    "Persian and Arabic do not have any available models for Spacy\n",
    "\n"
   ]
  }
 ],
 "metadata": {
  "kernelspec": {
   "display_name": "Python 3.10.8 64-bit",
   "language": "python",
   "name": "python3"
  },
  "language_info": {
   "codemirror_mode": {
    "name": "ipython",
    "version": 3
   },
   "file_extension": ".py",
   "mimetype": "text/x-python",
   "name": "python",
   "nbconvert_exporter": "python",
   "pygments_lexer": "ipython3",
   "version": "3.10.8"
  },
  "orig_nbformat": 4,
  "vscode": {
   "interpreter": {
    "hash": "b0fa6594d8f4cbf19f97940f81e996739fb7646882a419484c72d19e05852a7e"
   }
  }
 },
 "nbformat": 4,
 "nbformat_minor": 2
}
